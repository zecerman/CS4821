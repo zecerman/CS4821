{
 "cells": [
  {
   "cell_type": "markdown",
   "metadata": {},
   "source": [
    "# a2 - python - CS4821\n",
    "\n",
    "This assignment will cover topics from data, data preprocessing, and classification.\n",
    "\n",
    "Make sure that you keep this notebook named as \"a2-4821.ipynb\" \n",
    "\n",
    "Submit the zip-file created after running your notebook on the Linux lab machines.\n",
    "\n",
    "Any other packages or tools, outside those listed in the assignments or Canvas, should be cleared\n",
    "by Dr. Brown before use in your submission."
   ]
  },
  {
   "cell_type": "markdown",
   "metadata": {},
   "source": [
    "## Q0 - Setup\n",
    "\n",
    "The following code looks to see whether your notebook is run on Gradescope (GS), Colab (COLAB), or the linux Python environment you were asked to setup."
   ]
  },
  {
   "cell_type": "code",
   "execution_count": 142,
   "metadata": {},
   "outputs": [
    {
     "name": "stdout",
     "output_type": "stream",
     "text": [
      "System: GS - False, COLAB - False, LLM - True\n"
     ]
    }
   ],
   "source": [
    "import re \n",
    "import os\n",
    "import platform \n",
    "import sys \n",
    "\n",
    "# flag if notebook is running on Gradescope \n",
    "if re.search(r'amzn', platform.uname().release): \n",
    "    GS = True\n",
    "else: \n",
    "    GS = False\n",
    "\n",
    "# flag if notebook is running on Colaboratory \n",
    "try:\n",
    "  import google.colab\n",
    "  COLAB = True\n",
    "except:\n",
    "  COLAB = False\n",
    "\n",
    "# flag if running on Linux lab machines. \n",
    "cname = platform.uname().node\n",
    "if re.search(r'(guardian|colossus|c28|coc-15954-m)', cname):\n",
    "    LLM = True \n",
    "else: \n",
    "    LLM = False\n",
    "\n",
    "print(\"System: GS - %s, COLAB - %s, LLM - %s\" % (GS, COLAB, LLM))"
   ]
  },
  {
   "cell_type": "code",
   "execution_count": 143,
   "metadata": {},
   "outputs": [],
   "source": [
    "# Import standard DS packages \n",
    "import pandas as pd\n",
    "import numpy as np\n",
    "import matplotlib as mpl\n",
    "import matplotlib.pyplot as plt\n",
    "import seaborn as sns\n",
    "import math\n",
    "import statistics\n",
    "import textwrap\n",
    "%matplotlib inline\n",
    "\n",
    "from sklearn import tree        # decision tree classifier\n",
    "from sklearn import neighbors   # knn classifier\n",
    "from sklearn import naive_bayes # naive bayes classifier \n",
    "from sklearn import metrics     # performance evaluation metrics\n",
    "from sklearn import model_selection\n",
    "from sklearn import preprocessing \n",
    "from sklearn import pipeline\n",
    "# import graphviz, pydotplus\n",
    "\n",
    "from sklearn.model_selection import train_test_split, StratifiedKFold \n",
    "from sklearn.preprocessing import StandardScaler, MinMaxScaler\n",
    "from sklearn.pipeline import Pipeline, make_pipeline\n",
    "from sklearn.naive_bayes import GaussianNB\n",
    "from sklearn.neighbors import KNeighborsClassifier\n",
    "from sklearn import tree\n",
    "from sklearn.tree import DecisionTreeClassifier\n",
    "from sklearn.metrics import accuracy_score, precision_score, recall_score\n",
    "from sklearn.metrics import f1_score, roc_auc_score,mean_squared_error\n",
    "from sklearn.metrics import confusion_matrix\n",
    "\n",
    "# Package for Autograder \n",
    "\n",
    "import os\n",
    "if os.environ[\"HOME\"]=='/home/jovyan':\n",
    "    !pip install --upgrade otter-grader\n",
    "    \n",
    "import otter \n",
    "grader = otter.Notebook()\n",
    "\n",
    "from warnings import simplefilter\n",
    "simplefilter(action='ignore', category=FutureWarning)"
   ]
  },
  {
   "cell_type": "markdown",
   "metadata": {
    "id": "hvDdQg2KBbfa"
   },
   "source": [
    "# Q1 - Exploratory Data Analysis \n",
    "\n",
    "Consider the `movies` data set available on Canvas. The data set is made up of over 600 randomly selected movies, released before 2016, with information extracted from IMDB and Rotten Tomatoes. A code book on the variables is also provided.\n",
    "\n",
    "You should explore the files a bit in a text editor to understand the format. The variables are made up of different types: nominal, ordinal, numeric, etc. We will refer to the different variables by their column / codebook names.\n"
   ]
  },
  {
   "cell_type": "markdown",
   "metadata": {
    "deletable": false,
    "editable": false
   },
   "source": [
    "<!-- BEGIN QUESTION -->\n",
    "\n",
    "# *Missing Data*"
   ]
  },
  {
   "cell_type": "markdown",
   "metadata": {
    "deletable": false,
    "editable": false
   },
   "source": [
    "## Q1(a) - Examine data for loading \n",
    "\n",
    "Look at the `movies` data set.  Is there any missing data in the `movies` data set? \n",
    "If so, how is it encoded? "
   ]
  },
  {
   "cell_type": "code",
   "execution_count": null,
   "metadata": {},
   "outputs": [
    {
     "data": {
      "text/plain": [
       "array([ 0,  0,  0,  1,  0,  7,  0,  0,  0,  8,  8,  8,  0,  0,  0,  0,  0,\n",
       "        0,  0,  0,  0,  0,  0,  0,  2,  2,  7,  9, 12, 14,  0,  0])"
      ]
     },
     "execution_count": 39,
     "metadata": {},
     "output_type": "execute_result"
    }
   ],
   "source": [
    "movies = pd.read_csv(\"movies.csv\")\n",
    "sum(movies.isnull().values) # find the indexes with missing values (and how much data is missing)"
   ]
  },
  {
   "cell_type": "code",
   "execution_count": 40,
   "metadata": {},
   "outputs": [
    {
     "data": {
      "text/html": [
       "<div>\n",
       "<style scoped>\n",
       "    .dataframe tbody tr th:only-of-type {\n",
       "        vertical-align: middle;\n",
       "    }\n",
       "\n",
       "    .dataframe tbody tr th {\n",
       "        vertical-align: top;\n",
       "    }\n",
       "\n",
       "    .dataframe thead th {\n",
       "        text-align: right;\n",
       "    }\n",
       "</style>\n",
       "<table border=\"1\" class=\"dataframe\">\n",
       "  <thead>\n",
       "    <tr style=\"text-align: right;\">\n",
       "      <th></th>\n",
       "      <th>title</th>\n",
       "      <th>title_type</th>\n",
       "      <th>genre</th>\n",
       "      <th>runtime</th>\n",
       "      <th>mpaa_rating</th>\n",
       "      <th>studio</th>\n",
       "      <th>thtr_rel_year</th>\n",
       "      <th>thtr_rel_month</th>\n",
       "      <th>thtr_rel_day</th>\n",
       "      <th>dvd_rel_year</th>\n",
       "      <th>...</th>\n",
       "      <th>best_dir_win</th>\n",
       "      <th>top200_box</th>\n",
       "      <th>director</th>\n",
       "      <th>actor1</th>\n",
       "      <th>actor2</th>\n",
       "      <th>actor3</th>\n",
       "      <th>actor4</th>\n",
       "      <th>actor5</th>\n",
       "      <th>imdb_url</th>\n",
       "      <th>rt_url</th>\n",
       "    </tr>\n",
       "  </thead>\n",
       "  <tbody>\n",
       "    <tr>\n",
       "      <th>328</th>\n",
       "      <td>The End of America</td>\n",
       "      <td>Documentary</td>\n",
       "      <td>Documentary</td>\n",
       "      <td>NaN</td>\n",
       "      <td>Unrated</td>\n",
       "      <td>Indipix</td>\n",
       "      <td>2008</td>\n",
       "      <td>10</td>\n",
       "      <td>1</td>\n",
       "      <td>2009.0</td>\n",
       "      <td>...</td>\n",
       "      <td>no</td>\n",
       "      <td>no</td>\n",
       "      <td>Anne Sundberg</td>\n",
       "      <td>Naomi Wolf</td>\n",
       "      <td>NaN</td>\n",
       "      <td>NaN</td>\n",
       "      <td>NaN</td>\n",
       "      <td>NaN</td>\n",
       "      <td>http://www.imdb.com/title/tt1294790/</td>\n",
       "      <td>//www.rottentomatoes.com/m/end_of_america/</td>\n",
       "    </tr>\n",
       "  </tbody>\n",
       "</table>\n",
       "<p>1 rows × 32 columns</p>\n",
       "</div>"
      ],
      "text/plain": [
       "                  title   title_type        genre  runtime mpaa_rating  \\\n",
       "328  The End of America  Documentary  Documentary      NaN     Unrated   \n",
       "\n",
       "      studio  thtr_rel_year  thtr_rel_month  thtr_rel_day  dvd_rel_year  ...  \\\n",
       "328  Indipix           2008              10             1        2009.0  ...   \n",
       "\n",
       "     best_dir_win  top200_box       director      actor1 actor2  actor3  \\\n",
       "328            no          no  Anne Sundberg  Naomi Wolf    NaN     NaN   \n",
       "\n",
       "    actor4  actor5                              imdb_url  \\\n",
       "328    NaN     NaN  http://www.imdb.com/title/tt1294790/   \n",
       "\n",
       "                                         rt_url  \n",
       "328  //www.rottentomatoes.com/m/end_of_america/  \n",
       "\n",
       "[1 rows x 32 columns]"
      ]
     },
     "execution_count": 40,
     "metadata": {},
     "output_type": "execute_result"
    }
   ],
   "source": [
    "# investigate missing values one feature at a time\n",
    "idx3 = movies[movies.iloc[:,3].isnull() == True]\n",
    "idx3\n"
   ]
  },
  {
   "cell_type": "code",
   "execution_count": 41,
   "metadata": {},
   "outputs": [
    {
     "data": {
      "text/html": [
       "<div>\n",
       "<style scoped>\n",
       "    .dataframe tbody tr th:only-of-type {\n",
       "        vertical-align: middle;\n",
       "    }\n",
       "\n",
       "    .dataframe tbody tr th {\n",
       "        vertical-align: top;\n",
       "    }\n",
       "\n",
       "    .dataframe thead th {\n",
       "        text-align: right;\n",
       "    }\n",
       "</style>\n",
       "<table border=\"1\" class=\"dataframe\">\n",
       "  <thead>\n",
       "    <tr style=\"text-align: right;\">\n",
       "      <th></th>\n",
       "      <th>title</th>\n",
       "      <th>title_type</th>\n",
       "      <th>genre</th>\n",
       "      <th>runtime</th>\n",
       "      <th>mpaa_rating</th>\n",
       "      <th>studio</th>\n",
       "      <th>thtr_rel_year</th>\n",
       "      <th>thtr_rel_month</th>\n",
       "      <th>thtr_rel_day</th>\n",
       "      <th>dvd_rel_year</th>\n",
       "      <th>...</th>\n",
       "      <th>best_dir_win</th>\n",
       "      <th>top200_box</th>\n",
       "      <th>director</th>\n",
       "      <th>actor1</th>\n",
       "      <th>actor2</th>\n",
       "      <th>actor3</th>\n",
       "      <th>actor4</th>\n",
       "      <th>actor5</th>\n",
       "      <th>imdb_url</th>\n",
       "      <th>rt_url</th>\n",
       "    </tr>\n",
       "  </thead>\n",
       "  <tbody>\n",
       "    <tr>\n",
       "      <th>92</th>\n",
       "      <td>Dirty Sanchez: The Movie</td>\n",
       "      <td>Documentary</td>\n",
       "      <td>Comedy</td>\n",
       "      <td>94.0</td>\n",
       "      <td>R</td>\n",
       "      <td>NaN</td>\n",
       "      <td>2007</td>\n",
       "      <td>9</td>\n",
       "      <td>11</td>\n",
       "      <td>2007.0</td>\n",
       "      <td>...</td>\n",
       "      <td>no</td>\n",
       "      <td>no</td>\n",
       "      <td>Jim Hickey</td>\n",
       "      <td>Lee Dainton</td>\n",
       "      <td>Dan Joyce</td>\n",
       "      <td>Michael Pancho Locke</td>\n",
       "      <td>Matt Pritchard</td>\n",
       "      <td>Howard Marks</td>\n",
       "      <td>http://www.imdb.com/title/tt0758743/</td>\n",
       "      <td>//www.rottentomatoes.com/m/dirty_sanchez/</td>\n",
       "    </tr>\n",
       "    <tr>\n",
       "      <th>204</th>\n",
       "      <td>Caveman</td>\n",
       "      <td>Feature Film</td>\n",
       "      <td>Action &amp; Adventure</td>\n",
       "      <td>91.0</td>\n",
       "      <td>PG</td>\n",
       "      <td>NaN</td>\n",
       "      <td>1981</td>\n",
       "      <td>4</td>\n",
       "      <td>17</td>\n",
       "      <td>2002.0</td>\n",
       "      <td>...</td>\n",
       "      <td>no</td>\n",
       "      <td>no</td>\n",
       "      <td>Carl Gottlieb</td>\n",
       "      <td>Ringo Starr</td>\n",
       "      <td>Dennis Quaid</td>\n",
       "      <td>Shelley Long</td>\n",
       "      <td>Jack Gilford</td>\n",
       "      <td>John Matuszak</td>\n",
       "      <td>http://www.imdb.com/title/tt0082146/</td>\n",
       "      <td>//www.rottentomatoes.com/m/caveman/</td>\n",
       "    </tr>\n",
       "    <tr>\n",
       "      <th>277</th>\n",
       "      <td>Oliver &amp; Company</td>\n",
       "      <td>Feature Film</td>\n",
       "      <td>Animation</td>\n",
       "      <td>74.0</td>\n",
       "      <td>G</td>\n",
       "      <td>NaN</td>\n",
       "      <td>1988</td>\n",
       "      <td>11</td>\n",
       "      <td>18</td>\n",
       "      <td>2002.0</td>\n",
       "      <td>...</td>\n",
       "      <td>no</td>\n",
       "      <td>no</td>\n",
       "      <td>George Scribner</td>\n",
       "      <td>Joey Lawrence</td>\n",
       "      <td>Billy Joel</td>\n",
       "      <td>Cheech Marin</td>\n",
       "      <td>Bette Midler</td>\n",
       "      <td>Dom DeLuise</td>\n",
       "      <td>http://www.imdb.com/title/tt0095776/</td>\n",
       "      <td>//www.rottentomatoes.com/m/oliver_and_company/</td>\n",
       "    </tr>\n",
       "    <tr>\n",
       "      <th>302</th>\n",
       "      <td>The Man Who Sued God</td>\n",
       "      <td>Feature Film</td>\n",
       "      <td>Drama</td>\n",
       "      <td>97.0</td>\n",
       "      <td>R</td>\n",
       "      <td>NaN</td>\n",
       "      <td>2001</td>\n",
       "      <td>10</td>\n",
       "      <td>25</td>\n",
       "      <td>2007.0</td>\n",
       "      <td>...</td>\n",
       "      <td>no</td>\n",
       "      <td>no</td>\n",
       "      <td>Mark Joffe</td>\n",
       "      <td>Billy Connolly</td>\n",
       "      <td>Judy Davis</td>\n",
       "      <td>Colin Friels</td>\n",
       "      <td>Bille Brown</td>\n",
       "      <td>Wendy Hughes</td>\n",
       "      <td>http://www.imdb.com/title/tt0268437/</td>\n",
       "      <td>//www.rottentomatoes.com/m/man_who_sued_god/</td>\n",
       "    </tr>\n",
       "    <tr>\n",
       "      <th>396</th>\n",
       "      <td>Inserts</td>\n",
       "      <td>Feature Film</td>\n",
       "      <td>Drama</td>\n",
       "      <td>117.0</td>\n",
       "      <td>NC-17</td>\n",
       "      <td>NaN</td>\n",
       "      <td>1975</td>\n",
       "      <td>1</td>\n",
       "      <td>1</td>\n",
       "      <td>2005.0</td>\n",
       "      <td>...</td>\n",
       "      <td>no</td>\n",
       "      <td>no</td>\n",
       "      <td>John Byrum</td>\n",
       "      <td>Richard Dreyfuss</td>\n",
       "      <td>Jessica Harper</td>\n",
       "      <td>Stephen Davies</td>\n",
       "      <td>Veronica Cartwright</td>\n",
       "      <td>Bob Hoskins</td>\n",
       "      <td>http://www.imdb.com/title/tt0073172/</td>\n",
       "      <td>//www.rottentomatoes.com/m/inserts/</td>\n",
       "    </tr>\n",
       "    <tr>\n",
       "      <th>461</th>\n",
       "      <td>Inbred</td>\n",
       "      <td>Feature Film</td>\n",
       "      <td>Art House &amp; International</td>\n",
       "      <td>90.0</td>\n",
       "      <td>R</td>\n",
       "      <td>NaN</td>\n",
       "      <td>2011</td>\n",
       "      <td>8</td>\n",
       "      <td>29</td>\n",
       "      <td>2013.0</td>\n",
       "      <td>...</td>\n",
       "      <td>no</td>\n",
       "      <td>no</td>\n",
       "      <td>Alex Chandon</td>\n",
       "      <td>James Burrows</td>\n",
       "      <td>James Doherty</td>\n",
       "      <td>Jo Hartley</td>\n",
       "      <td>Seamus O'Neill</td>\n",
       "      <td>Neil Leiper</td>\n",
       "      <td>http://www.imdb.com/title/tt1723124/</td>\n",
       "      <td>//www.rottentomatoes.com/m/inbred/</td>\n",
       "    </tr>\n",
       "    <tr>\n",
       "      <th>530</th>\n",
       "      <td>Death Line (Raw Meat)</td>\n",
       "      <td>Feature Film</td>\n",
       "      <td>Horror</td>\n",
       "      <td>87.0</td>\n",
       "      <td>R</td>\n",
       "      <td>NaN</td>\n",
       "      <td>1972</td>\n",
       "      <td>1</td>\n",
       "      <td>1</td>\n",
       "      <td>2003.0</td>\n",
       "      <td>...</td>\n",
       "      <td>no</td>\n",
       "      <td>no</td>\n",
       "      <td>Gary Sherman</td>\n",
       "      <td>Hugh Armstrong</td>\n",
       "      <td>James Cossins</td>\n",
       "      <td>Sharon Gurney</td>\n",
       "      <td>David Ladd</td>\n",
       "      <td>Christopher Lee</td>\n",
       "      <td>http://www.imdb.com/title/tt0068458/</td>\n",
       "      <td>//www.rottentomatoes.com/m/death_line/</td>\n",
       "    </tr>\n",
       "  </tbody>\n",
       "</table>\n",
       "<p>7 rows × 32 columns</p>\n",
       "</div>"
      ],
      "text/plain": [
       "                        title    title_type                      genre  \\\n",
       "92   Dirty Sanchez: The Movie   Documentary                     Comedy   \n",
       "204                   Caveman  Feature Film         Action & Adventure   \n",
       "277          Oliver & Company  Feature Film                  Animation   \n",
       "302      The Man Who Sued God  Feature Film                      Drama   \n",
       "396                   Inserts  Feature Film                      Drama   \n",
       "461                    Inbred  Feature Film  Art House & International   \n",
       "530     Death Line (Raw Meat)  Feature Film                     Horror   \n",
       "\n",
       "     runtime mpaa_rating studio  thtr_rel_year  thtr_rel_month  thtr_rel_day  \\\n",
       "92      94.0           R    NaN           2007               9            11   \n",
       "204     91.0          PG    NaN           1981               4            17   \n",
       "277     74.0           G    NaN           1988              11            18   \n",
       "302     97.0           R    NaN           2001              10            25   \n",
       "396    117.0       NC-17    NaN           1975               1             1   \n",
       "461     90.0           R    NaN           2011               8            29   \n",
       "530     87.0           R    NaN           1972               1             1   \n",
       "\n",
       "     dvd_rel_year  ...  best_dir_win  top200_box         director  \\\n",
       "92         2007.0  ...            no          no       Jim Hickey   \n",
       "204        2002.0  ...            no          no    Carl Gottlieb   \n",
       "277        2002.0  ...            no          no  George Scribner   \n",
       "302        2007.0  ...            no          no       Mark Joffe   \n",
       "396        2005.0  ...            no          no       John Byrum   \n",
       "461        2013.0  ...            no          no     Alex Chandon   \n",
       "530        2003.0  ...            no          no     Gary Sherman   \n",
       "\n",
       "               actor1          actor2                actor3  \\\n",
       "92        Lee Dainton       Dan Joyce  Michael Pancho Locke   \n",
       "204       Ringo Starr    Dennis Quaid          Shelley Long   \n",
       "277     Joey Lawrence      Billy Joel          Cheech Marin   \n",
       "302    Billy Connolly      Judy Davis          Colin Friels   \n",
       "396  Richard Dreyfuss  Jessica Harper        Stephen Davies   \n",
       "461     James Burrows   James Doherty            Jo Hartley   \n",
       "530    Hugh Armstrong   James Cossins         Sharon Gurney   \n",
       "\n",
       "                  actor4           actor5  \\\n",
       "92        Matt Pritchard     Howard Marks   \n",
       "204         Jack Gilford    John Matuszak   \n",
       "277         Bette Midler      Dom DeLuise   \n",
       "302          Bille Brown     Wendy Hughes   \n",
       "396  Veronica Cartwright      Bob Hoskins   \n",
       "461       Seamus O'Neill      Neil Leiper   \n",
       "530           David Ladd  Christopher Lee   \n",
       "\n",
       "                                 imdb_url  \\\n",
       "92   http://www.imdb.com/title/tt0758743/   \n",
       "204  http://www.imdb.com/title/tt0082146/   \n",
       "277  http://www.imdb.com/title/tt0095776/   \n",
       "302  http://www.imdb.com/title/tt0268437/   \n",
       "396  http://www.imdb.com/title/tt0073172/   \n",
       "461  http://www.imdb.com/title/tt1723124/   \n",
       "530  http://www.imdb.com/title/tt0068458/   \n",
       "\n",
       "                                             rt_url  \n",
       "92        //www.rottentomatoes.com/m/dirty_sanchez/  \n",
       "204             //www.rottentomatoes.com/m/caveman/  \n",
       "277  //www.rottentomatoes.com/m/oliver_and_company/  \n",
       "302    //www.rottentomatoes.com/m/man_who_sued_god/  \n",
       "396             //www.rottentomatoes.com/m/inserts/  \n",
       "461              //www.rottentomatoes.com/m/inbred/  \n",
       "530          //www.rottentomatoes.com/m/death_line/  \n",
       "\n",
       "[7 rows x 32 columns]"
      ]
     },
     "execution_count": 41,
     "metadata": {},
     "output_type": "execute_result"
    }
   ],
   "source": [
    "idx5 = movies[movies.iloc[:,5].isnull() == True]\n",
    "idx5\n",
    "# the trend becomes clear, missing values are recorded as np.NaN"
   ]
  },
  {
   "cell_type": "markdown",
   "metadata": {},
   "source": [
    "Missing data is encoded as: ***np.NaN values***"
   ]
  },
  {
   "cell_type": "markdown",
   "metadata": {
    "deletable": false,
    "editable": false
   },
   "source": [
    "<!-- END QUESTION -->\n",
    "\n",
    "## Q1(b) - Load the data\n",
    "\n",
    "Load the movies data into a DataFrame `q1movies`.  Is there any missing data in the `movies` data set? \n",
    "If yes, make sure to encode those missing values when reading the data in pandas `read_csv` function. \n"
   ]
  },
  {
   "cell_type": "code",
   "execution_count": 38,
   "metadata": {
    "tags": []
   },
   "outputs": [
    {
     "data": {
      "text/html": [
       "<div>\n",
       "<style scoped>\n",
       "    .dataframe tbody tr th:only-of-type {\n",
       "        vertical-align: middle;\n",
       "    }\n",
       "\n",
       "    .dataframe tbody tr th {\n",
       "        vertical-align: top;\n",
       "    }\n",
       "\n",
       "    .dataframe thead th {\n",
       "        text-align: right;\n",
       "    }\n",
       "</style>\n",
       "<table border=\"1\" class=\"dataframe\">\n",
       "  <thead>\n",
       "    <tr style=\"text-align: right;\">\n",
       "      <th></th>\n",
       "      <th>title</th>\n",
       "      <th>title_type</th>\n",
       "      <th>genre</th>\n",
       "      <th>runtime</th>\n",
       "      <th>mpaa_rating</th>\n",
       "      <th>studio</th>\n",
       "      <th>thtr_rel_year</th>\n",
       "      <th>thtr_rel_month</th>\n",
       "      <th>thtr_rel_day</th>\n",
       "      <th>dvd_rel_year</th>\n",
       "      <th>...</th>\n",
       "      <th>best_dir_win</th>\n",
       "      <th>top200_box</th>\n",
       "      <th>director</th>\n",
       "      <th>actor1</th>\n",
       "      <th>actor2</th>\n",
       "      <th>actor3</th>\n",
       "      <th>actor4</th>\n",
       "      <th>actor5</th>\n",
       "      <th>imdb_url</th>\n",
       "      <th>rt_url</th>\n",
       "    </tr>\n",
       "  </thead>\n",
       "  <tbody>\n",
       "    <tr>\n",
       "      <th>0</th>\n",
       "      <td>Filly Brown</td>\n",
       "      <td>Feature Film</td>\n",
       "      <td>Drama</td>\n",
       "      <td>80.0</td>\n",
       "      <td>R</td>\n",
       "      <td>Indomina Media Inc.</td>\n",
       "      <td>2013</td>\n",
       "      <td>4</td>\n",
       "      <td>19</td>\n",
       "      <td>2013.0</td>\n",
       "      <td>...</td>\n",
       "      <td>no</td>\n",
       "      <td>no</td>\n",
       "      <td>Michael D. Olmos</td>\n",
       "      <td>Gina Rodriguez</td>\n",
       "      <td>Jenni Rivera</td>\n",
       "      <td>Lou Diamond Phillips</td>\n",
       "      <td>Emilio Rivera</td>\n",
       "      <td>Joseph Julian Soria</td>\n",
       "      <td>http://www.imdb.com/title/tt1869425/</td>\n",
       "      <td>//www.rottentomatoes.com/m/filly_brown_2012/</td>\n",
       "    </tr>\n",
       "    <tr>\n",
       "      <th>1</th>\n",
       "      <td>The Dish</td>\n",
       "      <td>Feature Film</td>\n",
       "      <td>Drama</td>\n",
       "      <td>101.0</td>\n",
       "      <td>PG-13</td>\n",
       "      <td>Warner Bros. Pictures</td>\n",
       "      <td>2001</td>\n",
       "      <td>3</td>\n",
       "      <td>14</td>\n",
       "      <td>2001.0</td>\n",
       "      <td>...</td>\n",
       "      <td>no</td>\n",
       "      <td>no</td>\n",
       "      <td>Rob Sitch</td>\n",
       "      <td>Sam Neill</td>\n",
       "      <td>Kevin Harrington</td>\n",
       "      <td>Patrick Warburton</td>\n",
       "      <td>Tom Long</td>\n",
       "      <td>Genevieve Mooy</td>\n",
       "      <td>http://www.imdb.com/title/tt0205873/</td>\n",
       "      <td>//www.rottentomatoes.com/m/dish/</td>\n",
       "    </tr>\n",
       "    <tr>\n",
       "      <th>2</th>\n",
       "      <td>Waiting for Guffman</td>\n",
       "      <td>Feature Film</td>\n",
       "      <td>Comedy</td>\n",
       "      <td>84.0</td>\n",
       "      <td>R</td>\n",
       "      <td>Sony Pictures Classics</td>\n",
       "      <td>1996</td>\n",
       "      <td>8</td>\n",
       "      <td>21</td>\n",
       "      <td>2001.0</td>\n",
       "      <td>...</td>\n",
       "      <td>no</td>\n",
       "      <td>no</td>\n",
       "      <td>Christopher Guest</td>\n",
       "      <td>Christopher Guest</td>\n",
       "      <td>Catherine O'Hara</td>\n",
       "      <td>Parker Posey</td>\n",
       "      <td>Eugene Levy</td>\n",
       "      <td>Bob Balaban</td>\n",
       "      <td>http://www.imdb.com/title/tt0118111/</td>\n",
       "      <td>//www.rottentomatoes.com/m/waiting_for_guffman/</td>\n",
       "    </tr>\n",
       "    <tr>\n",
       "      <th>3</th>\n",
       "      <td>The Age of Innocence</td>\n",
       "      <td>Feature Film</td>\n",
       "      <td>Drama</td>\n",
       "      <td>139.0</td>\n",
       "      <td>PG</td>\n",
       "      <td>Columbia Pictures</td>\n",
       "      <td>1993</td>\n",
       "      <td>10</td>\n",
       "      <td>1</td>\n",
       "      <td>2001.0</td>\n",
       "      <td>...</td>\n",
       "      <td>yes</td>\n",
       "      <td>no</td>\n",
       "      <td>Martin Scorsese</td>\n",
       "      <td>Daniel Day-Lewis</td>\n",
       "      <td>Michelle Pfeiffer</td>\n",
       "      <td>Winona Ryder</td>\n",
       "      <td>Richard E. Grant</td>\n",
       "      <td>Alec McCowen</td>\n",
       "      <td>http://www.imdb.com/title/tt0106226/</td>\n",
       "      <td>//www.rottentomatoes.com/m/age_of_innocence/</td>\n",
       "    </tr>\n",
       "    <tr>\n",
       "      <th>4</th>\n",
       "      <td>Malevolence</td>\n",
       "      <td>Feature Film</td>\n",
       "      <td>Horror</td>\n",
       "      <td>90.0</td>\n",
       "      <td>R</td>\n",
       "      <td>Anchor Bay Entertainment</td>\n",
       "      <td>2004</td>\n",
       "      <td>9</td>\n",
       "      <td>10</td>\n",
       "      <td>2005.0</td>\n",
       "      <td>...</td>\n",
       "      <td>no</td>\n",
       "      <td>no</td>\n",
       "      <td>Stevan Mena</td>\n",
       "      <td>Samantha Dark</td>\n",
       "      <td>R. Brandon Johnson</td>\n",
       "      <td>Brandon Johnson</td>\n",
       "      <td>Heather Magee</td>\n",
       "      <td>Richard Glover</td>\n",
       "      <td>http://www.imdb.com/title/tt0388230/</td>\n",
       "      <td>//www.rottentomatoes.com/m/10004684-malevolence/</td>\n",
       "    </tr>\n",
       "  </tbody>\n",
       "</table>\n",
       "<p>5 rows × 32 columns</p>\n",
       "</div>"
      ],
      "text/plain": [
       "                  title    title_type   genre  runtime mpaa_rating  \\\n",
       "0           Filly Brown  Feature Film   Drama     80.0           R   \n",
       "1              The Dish  Feature Film   Drama    101.0       PG-13   \n",
       "2   Waiting for Guffman  Feature Film  Comedy     84.0           R   \n",
       "3  The Age of Innocence  Feature Film   Drama    139.0          PG   \n",
       "4           Malevolence  Feature Film  Horror     90.0           R   \n",
       "\n",
       "                     studio  thtr_rel_year  thtr_rel_month  thtr_rel_day  \\\n",
       "0       Indomina Media Inc.           2013               4            19   \n",
       "1     Warner Bros. Pictures           2001               3            14   \n",
       "2    Sony Pictures Classics           1996               8            21   \n",
       "3         Columbia Pictures           1993              10             1   \n",
       "4  Anchor Bay Entertainment           2004               9            10   \n",
       "\n",
       "   dvd_rel_year  ...  best_dir_win  top200_box           director  \\\n",
       "0        2013.0  ...            no          no   Michael D. Olmos   \n",
       "1        2001.0  ...            no          no          Rob Sitch   \n",
       "2        2001.0  ...            no          no  Christopher Guest   \n",
       "3        2001.0  ...           yes          no    Martin Scorsese   \n",
       "4        2005.0  ...            no          no        Stevan Mena   \n",
       "\n",
       "              actor1              actor2                actor3  \\\n",
       "0     Gina Rodriguez        Jenni Rivera  Lou Diamond Phillips   \n",
       "1          Sam Neill    Kevin Harrington     Patrick Warburton   \n",
       "2  Christopher Guest    Catherine O'Hara          Parker Posey   \n",
       "3   Daniel Day-Lewis   Michelle Pfeiffer          Winona Ryder   \n",
       "4      Samantha Dark  R. Brandon Johnson       Brandon Johnson   \n",
       "\n",
       "             actor4               actor5  \\\n",
       "0     Emilio Rivera  Joseph Julian Soria   \n",
       "1          Tom Long       Genevieve Mooy   \n",
       "2       Eugene Levy          Bob Balaban   \n",
       "3  Richard E. Grant         Alec McCowen   \n",
       "4     Heather Magee       Richard Glover   \n",
       "\n",
       "                               imdb_url  \\\n",
       "0  http://www.imdb.com/title/tt1869425/   \n",
       "1  http://www.imdb.com/title/tt0205873/   \n",
       "2  http://www.imdb.com/title/tt0118111/   \n",
       "3  http://www.imdb.com/title/tt0106226/   \n",
       "4  http://www.imdb.com/title/tt0388230/   \n",
       "\n",
       "                                             rt_url  \n",
       "0      //www.rottentomatoes.com/m/filly_brown_2012/  \n",
       "1                  //www.rottentomatoes.com/m/dish/  \n",
       "2   //www.rottentomatoes.com/m/waiting_for_guffman/  \n",
       "3      //www.rottentomatoes.com/m/age_of_innocence/  \n",
       "4  //www.rottentomatoes.com/m/10004684-malevolence/  \n",
       "\n",
       "[5 rows x 32 columns]"
      ]
     },
     "execution_count": 38,
     "metadata": {},
     "output_type": "execute_result"
    }
   ],
   "source": [
    "# Read in movies data with pandas \"read_csv\" function\n",
    "#  Use column names from the original csv file \n",
    "\n",
    "q1movies = pd.read_csv(\"movies.csv\", na_values='MISSING')\n",
    "\n",
    "q1movies.head()"
   ]
  },
  {
   "cell_type": "code",
   "execution_count": 37,
   "metadata": {
    "deletable": false,
    "editable": false
   },
   "outputs": [
    {
     "data": {
      "text/html": [
       "<p><strong><pre style='display: inline;'>q1b</pre></strong> passed! ✨</p>"
      ],
      "text/plain": [
       "q1b results: All test cases passed!"
      ]
     },
     "execution_count": 37,
     "metadata": {},
     "output_type": "execute_result"
    }
   ],
   "source": [
    "grader.check(\"q1b\")"
   ]
  },
  {
   "cell_type": "markdown",
   "metadata": {
    "deletable": false,
    "editable": false
   },
   "source": [
    "## Q1(c) - Missing data \n",
    "\n",
    "We want to understand where (which variable) and how much data is missing (for each variable the percentage of rows). "
   ]
  },
  {
   "cell_type": "code",
   "execution_count": 47,
   "metadata": {
    "tags": []
   },
   "outputs": [
    {
     "data": {
      "text/plain": [
       "title               0.000000\n",
       "title_type          0.000000\n",
       "genre               0.000000\n",
       "runtime             0.001548\n",
       "mpaa_rating         0.000000\n",
       "studio              0.010836\n",
       "thtr_rel_year       0.000000\n",
       "thtr_rel_month      0.000000\n",
       "thtr_rel_day        0.000000\n",
       "dvd_rel_year        0.012384\n",
       "dvd_rel_month       0.012384\n",
       "dvd_rel_day         0.012384\n",
       "imdb_rating         0.000000\n",
       "imdb_num_votes      0.000000\n",
       "critics_rating      0.000000\n",
       "critics_score       0.000000\n",
       "audience_rating     0.000000\n",
       "audience_score      0.000000\n",
       "best_pic_nom        0.000000\n",
       "best_pic_win        0.000000\n",
       "best_actor_win      0.000000\n",
       "best_actress_win    0.000000\n",
       "best_dir_win        0.000000\n",
       "top200_box          0.000000\n",
       "director            0.003096\n",
       "actor1              0.003096\n",
       "actor2              0.010836\n",
       "actor3              0.013932\n",
       "actor4              0.018576\n",
       "actor5              0.021672\n",
       "imdb_url            0.000000\n",
       "rt_url              0.000000\n",
       "dtype: float64"
      ]
     },
     "execution_count": 47,
     "metadata": {},
     "output_type": "execute_result"
    }
   ],
   "source": [
    "# Create a Data.Series that has the percentage of missing data for each \n",
    "#  attribute in the movies data set.\n",
    "miss_data = pd.Series(sum(movies.isnull().values) / movies.shape[0], movies.columns)\n",
    "\n",
    "miss_data"
   ]
  },
  {
   "cell_type": "code",
   "execution_count": 44,
   "metadata": {
    "deletable": false,
    "editable": false
   },
   "outputs": [
    {
     "data": {
      "text/html": [
       "<p><strong><pre style='display: inline;'>q1c</pre></strong> passed! 🌈</p>"
      ],
      "text/plain": [
       "q1c results: All test cases passed!"
      ]
     },
     "execution_count": 44,
     "metadata": {},
     "output_type": "execute_result"
    }
   ],
   "source": [
    "grader.check(\"q1c\")"
   ]
  },
  {
   "cell_type": "markdown",
   "metadata": {
    "deletable": false,
    "editable": false
   },
   "source": [
    "## Q1(d) - Clean data \n",
    "\n",
    "We want to clean up data with respect to the missing values. \n",
    "\n",
    "Ignore any missing values in the `studio`, `dvd_rel_year`, `dvd_rel_month`, `dvd_rel_day`, and all variables including and listed after `best_pic_nom`. For other missing values, remove the sample that contains the missing value.\n",
    "\n",
    "Save the resulting DataFrame in the `movies` variable.  "
   ]
  },
  {
   "cell_type": "code",
   "execution_count": 48,
   "metadata": {
    "tags": []
   },
   "outputs": [
    {
     "data": {
      "text/plain": [
       "(645, 32)"
      ]
     },
     "execution_count": 48,
     "metadata": {},
     "output_type": "execute_result"
    }
   ],
   "source": [
    "\n",
    "# Ignore missing values in \"studio\", \"dvd_rel_year\", \"dvd_rel_month\", \n",
    "#   \"dvd_rel_day\", and all varaibles including and after \"best_pic_nom\"\n",
    "# For other missing values, remove the sample that contains the missing value. \n",
    "\n",
    "movies = movies[movies['runtime'].isnull() == False]\n",
    "# Per the above description, you want me to drop ONLY rows where 'runtime' is missing\n",
    "movies.shape"
   ]
  },
  {
   "cell_type": "code",
   "execution_count": 49,
   "metadata": {
    "deletable": false,
    "editable": false
   },
   "outputs": [
    {
     "data": {
      "text/html": [
       "<p><strong><pre style='display: inline;'>q1d</pre></strong> passed! 🍀</p>"
      ],
      "text/plain": [
       "q1d results: All test cases passed!"
      ]
     },
     "execution_count": 49,
     "metadata": {},
     "output_type": "execute_result"
    }
   ],
   "source": [
    "grader.check(\"q1d\")"
   ]
  },
  {
   "cell_type": "markdown",
   "metadata": {
    "deletable": false,
    "editable": false
   },
   "source": [
    "## Q1(e) - Attribute Types\n",
    "\n",
    "For the following variables, state the attribute type: 1- *nominal*, 2- *ordinal*, 3- *interval*, or 4- *ratio*. "
   ]
  },
  {
   "cell_type": "code",
   "execution_count": 57,
   "metadata": {
    "tags": []
   },
   "outputs": [],
   "source": [
    "type_genre = 1\n",
    "type_runtime = 4\n",
    "type_mpaa_rating = 2\n",
    "type_studio = 1\n",
    "type_thtr_rel_month = 3\n",
    "type_imdb_rating = 4\n",
    "type_audience_score = 2\n",
    "type_best_pic_win = 1"
   ]
  },
  {
   "cell_type": "code",
   "execution_count": 58,
   "metadata": {},
   "outputs": [
    {
     "data": {
      "text/html": [
       "<div>\n",
       "<style scoped>\n",
       "    .dataframe tbody tr th:only-of-type {\n",
       "        vertical-align: middle;\n",
       "    }\n",
       "\n",
       "    .dataframe tbody tr th {\n",
       "        vertical-align: top;\n",
       "    }\n",
       "\n",
       "    .dataframe thead th {\n",
       "        text-align: right;\n",
       "    }\n",
       "</style>\n",
       "<table border=\"1\" class=\"dataframe\">\n",
       "  <thead>\n",
       "    <tr style=\"text-align: right;\">\n",
       "      <th></th>\n",
       "      <th>critics_score</th>\n",
       "      <th>audience_rating</th>\n",
       "      <th>audience_score</th>\n",
       "      <th>best_pic_nom</th>\n",
       "      <th>best_pic_win</th>\n",
       "      <th>best_actor_win</th>\n",
       "      <th>best_actress_win</th>\n",
       "      <th>best_dir_win</th>\n",
       "      <th>top200_box</th>\n",
       "      <th>director</th>\n",
       "    </tr>\n",
       "  </thead>\n",
       "  <tbody>\n",
       "    <tr>\n",
       "      <th>0</th>\n",
       "      <td>45</td>\n",
       "      <td>Upright</td>\n",
       "      <td>73</td>\n",
       "      <td>no</td>\n",
       "      <td>no</td>\n",
       "      <td>no</td>\n",
       "      <td>no</td>\n",
       "      <td>no</td>\n",
       "      <td>no</td>\n",
       "      <td>Michael D. Olmos</td>\n",
       "    </tr>\n",
       "    <tr>\n",
       "      <th>1</th>\n",
       "      <td>96</td>\n",
       "      <td>Upright</td>\n",
       "      <td>81</td>\n",
       "      <td>no</td>\n",
       "      <td>no</td>\n",
       "      <td>no</td>\n",
       "      <td>no</td>\n",
       "      <td>no</td>\n",
       "      <td>no</td>\n",
       "      <td>Rob Sitch</td>\n",
       "    </tr>\n",
       "    <tr>\n",
       "      <th>2</th>\n",
       "      <td>91</td>\n",
       "      <td>Upright</td>\n",
       "      <td>91</td>\n",
       "      <td>no</td>\n",
       "      <td>no</td>\n",
       "      <td>no</td>\n",
       "      <td>no</td>\n",
       "      <td>no</td>\n",
       "      <td>no</td>\n",
       "      <td>Christopher Guest</td>\n",
       "    </tr>\n",
       "    <tr>\n",
       "      <th>3</th>\n",
       "      <td>80</td>\n",
       "      <td>Upright</td>\n",
       "      <td>76</td>\n",
       "      <td>no</td>\n",
       "      <td>no</td>\n",
       "      <td>yes</td>\n",
       "      <td>no</td>\n",
       "      <td>yes</td>\n",
       "      <td>no</td>\n",
       "      <td>Martin Scorsese</td>\n",
       "    </tr>\n",
       "    <tr>\n",
       "      <th>4</th>\n",
       "      <td>33</td>\n",
       "      <td>Spilled</td>\n",
       "      <td>27</td>\n",
       "      <td>no</td>\n",
       "      <td>no</td>\n",
       "      <td>no</td>\n",
       "      <td>no</td>\n",
       "      <td>no</td>\n",
       "      <td>no</td>\n",
       "      <td>Stevan Mena</td>\n",
       "    </tr>\n",
       "  </tbody>\n",
       "</table>\n",
       "</div>"
      ],
      "text/plain": [
       "   critics_score audience_rating  audience_score best_pic_nom best_pic_win  \\\n",
       "0             45         Upright              73           no           no   \n",
       "1             96         Upright              81           no           no   \n",
       "2             91         Upright              91           no           no   \n",
       "3             80         Upright              76           no           no   \n",
       "4             33         Spilled              27           no           no   \n",
       "\n",
       "  best_actor_win best_actress_win best_dir_win top200_box           director  \n",
       "0             no               no           no         no   Michael D. Olmos  \n",
       "1             no               no           no         no          Rob Sitch  \n",
       "2             no               no           no         no  Christopher Guest  \n",
       "3            yes               no          yes         no    Martin Scorsese  \n",
       "4             no               no           no         no        Stevan Mena  "
      ]
     },
     "execution_count": 58,
     "metadata": {},
     "output_type": "execute_result"
    }
   ],
   "source": [
    "movies.iloc[:,np.arange(15,25)].head()"
   ]
  },
  {
   "cell_type": "code",
   "execution_count": 59,
   "metadata": {
    "deletable": false,
    "editable": false
   },
   "outputs": [
    {
     "data": {
      "text/html": [
       "<p><strong><pre style='display: inline;'>q1e</pre></strong> passed! 🌟</p>"
      ],
      "text/plain": [
       "q1e results: All test cases passed!"
      ]
     },
     "execution_count": 59,
     "metadata": {},
     "output_type": "execute_result"
    }
   ],
   "source": [
    "grader.check(\"q1e\")"
   ]
  },
  {
   "cell_type": "markdown",
   "metadata": {
    "deletable": false,
    "editable": false
   },
   "source": [
    "# *Summary Statistics*"
   ]
  },
  {
   "cell_type": "markdown",
   "metadata": {
    "deletable": false,
    "editable": false
   },
   "source": [
    "## Q1(f) - Statistics, part 1\n",
    "\n",
    "For the following variables, report out a five number summary:\n",
    "`audience_score` and `imdb_rating`\n",
    "\n",
    "Store results in a DataFrame: `q1f`\n",
    "\n",
    "*Hint:* consider using the `describe` function.\n"
   ]
  },
  {
   "cell_type": "code",
   "execution_count": 68,
   "metadata": {},
   "outputs": [
    {
     "data": {
      "text/plain": [
       "array([2, 3, 4, 5])"
      ]
     },
     "execution_count": 68,
     "metadata": {},
     "output_type": "execute_result"
    }
   ],
   "source": [
    "np.arange(2,6)"
   ]
  },
  {
   "cell_type": "code",
   "execution_count": 71,
   "metadata": {
    "tags": []
   },
   "outputs": [
    {
     "data": {
      "text/html": [
       "<div>\n",
       "<style scoped>\n",
       "    .dataframe tbody tr th:only-of-type {\n",
       "        vertical-align: middle;\n",
       "    }\n",
       "\n",
       "    .dataframe tbody tr th {\n",
       "        vertical-align: top;\n",
       "    }\n",
       "\n",
       "    .dataframe thead th {\n",
       "        text-align: right;\n",
       "    }\n",
       "</style>\n",
       "<table border=\"1\" class=\"dataframe\">\n",
       "  <thead>\n",
       "    <tr style=\"text-align: right;\">\n",
       "      <th></th>\n",
       "      <th>audience_score</th>\n",
       "      <th>imdb_rating</th>\n",
       "    </tr>\n",
       "  </thead>\n",
       "  <tbody>\n",
       "    <tr>\n",
       "      <th>min</th>\n",
       "      <td>11.0</td>\n",
       "      <td>1.9</td>\n",
       "    </tr>\n",
       "    <tr>\n",
       "      <th>25%</th>\n",
       "      <td>46.0</td>\n",
       "      <td>5.9</td>\n",
       "    </tr>\n",
       "    <tr>\n",
       "      <th>50%</th>\n",
       "      <td>65.0</td>\n",
       "      <td>6.6</td>\n",
       "    </tr>\n",
       "    <tr>\n",
       "      <th>75%</th>\n",
       "      <td>80.0</td>\n",
       "      <td>7.3</td>\n",
       "    </tr>\n",
       "    <tr>\n",
       "      <th>max</th>\n",
       "      <td>97.0</td>\n",
       "      <td>9.0</td>\n",
       "    </tr>\n",
       "  </tbody>\n",
       "</table>\n",
       "</div>"
      ],
      "text/plain": [
       "     audience_score  imdb_rating\n",
       "min            11.0          1.9\n",
       "25%            46.0          5.9\n",
       "50%            65.0          6.6\n",
       "75%            80.0          7.3\n",
       "max            97.0          9.0"
      ]
     },
     "execution_count": 71,
     "metadata": {},
     "output_type": "execute_result"
    }
   ],
   "source": [
    "\n",
    "# Report five number summary for variables `audience_score` and `imdb_rating` in \n",
    "#  a DataFrame \"q1f\" \n",
    "#  Rows should represent: min, Q1 - 25%, Q2 - 50%, Q3 - 50%, max \n",
    "#  Columns should be `audience_score` then `imdb_rating` \n",
    "\n",
    "q1f = pd.DataFrame({'audience_score' : movies['audience_score'].describe(),\n",
    "                    'imdb_rating' : movies['imdb_rating'].describe()}).iloc[np.arange(3,8),:]\n",
    "\n",
    "q1f"
   ]
  },
  {
   "cell_type": "code",
   "execution_count": 72,
   "metadata": {
    "deletable": false,
    "editable": false
   },
   "outputs": [
    {
     "data": {
      "text/html": [
       "<p><strong><pre style='display: inline;'>q1f</pre></strong> passed! 🙌</p>"
      ],
      "text/plain": [
       "q1f results: All test cases passed!"
      ]
     },
     "execution_count": 72,
     "metadata": {},
     "output_type": "execute_result"
    }
   ],
   "source": [
    "grader.check(\"q1f\")"
   ]
  },
  {
   "cell_type": "markdown",
   "metadata": {
    "deletable": false,
    "editable": false
   },
   "source": [
    "## Q1(g) - Statistics, part 2 \n",
    "\n",
    "Report the mean, median, and mode of `critics_score` and `runtime` to the given variables. "
   ]
  },
  {
   "cell_type": "code",
   "execution_count": 80,
   "metadata": {
    "tags": []
   },
   "outputs": [
    {
     "ename": "AttributeError",
     "evalue": "module 'numpy' has no attribute 'mode'",
     "output_type": "error",
     "traceback": [
      "\u001b[0;31m---------------------------------------------------------------------------\u001b[0m",
      "\u001b[0;31mAttributeError\u001b[0m                            Traceback (most recent call last)",
      "Cell \u001b[0;32mIn[80], line 6\u001b[0m\n\u001b[1;32m      4\u001b[0m q1g_cs_mean \u001b[38;5;241m=\u001b[39m np\u001b[38;5;241m.\u001b[39mmean(movies[\u001b[38;5;124m'\u001b[39m\u001b[38;5;124mcritics_score\u001b[39m\u001b[38;5;124m'\u001b[39m])\n\u001b[1;32m      5\u001b[0m q1g_cs_median \u001b[38;5;241m=\u001b[39m np\u001b[38;5;241m.\u001b[39mmedian(movies[\u001b[38;5;124m'\u001b[39m\u001b[38;5;124mcritics_score\u001b[39m\u001b[38;5;124m'\u001b[39m])\n\u001b[0;32m----> 6\u001b[0m q1g_cs_mode \u001b[38;5;241m=\u001b[39m \u001b[43mnp\u001b[49m\u001b[38;5;241;43m.\u001b[39;49m\u001b[43mmode\u001b[49m(movies[\u001b[38;5;124m'\u001b[39m\u001b[38;5;124mcritics_score\u001b[39m\u001b[38;5;124m'\u001b[39m])\n\u001b[1;32m      8\u001b[0m \u001b[38;5;66;03m# For runtime- \u001b[39;00m\n\u001b[1;32m      9\u001b[0m q1g_r_mean \u001b[38;5;241m=\u001b[39m np\u001b[38;5;241m.\u001b[39mmean(movies[\u001b[38;5;124m'\u001b[39m\u001b[38;5;124mruntime\u001b[39m\u001b[38;5;124m'\u001b[39m])\n",
      "File \u001b[0;32m~/.conda/envs/cs4821/lib/python3.10/site-packages/numpy/__init__.py:414\u001b[0m, in \u001b[0;36m__getattr__\u001b[0;34m(attr)\u001b[0m\n\u001b[1;32m    411\u001b[0m     \u001b[38;5;28;01mimport\u001b[39;00m\u001b[38;5;250m \u001b[39m\u001b[38;5;21;01mnumpy\u001b[39;00m\u001b[38;5;21;01m.\u001b[39;00m\u001b[38;5;21;01mchar\u001b[39;00m\u001b[38;5;250m \u001b[39m\u001b[38;5;28;01mas\u001b[39;00m\u001b[38;5;250m \u001b[39m\u001b[38;5;21;01mchar\u001b[39;00m\n\u001b[1;32m    412\u001b[0m     \u001b[38;5;28;01mreturn\u001b[39;00m char\u001b[38;5;241m.\u001b[39mchararray\n\u001b[0;32m--> 414\u001b[0m \u001b[38;5;28;01mraise\u001b[39;00m \u001b[38;5;167;01mAttributeError\u001b[39;00m(\u001b[38;5;124m\"\u001b[39m\u001b[38;5;124mmodule \u001b[39m\u001b[38;5;132;01m{!r}\u001b[39;00m\u001b[38;5;124m has no attribute \u001b[39m\u001b[38;5;124m\"\u001b[39m\n\u001b[1;32m    415\u001b[0m                      \u001b[38;5;124m\"\u001b[39m\u001b[38;5;132;01m{!r}\u001b[39;00m\u001b[38;5;124m\"\u001b[39m\u001b[38;5;241m.\u001b[39mformat(\u001b[38;5;18m__name__\u001b[39m, attr))\n",
      "\u001b[0;31mAttributeError\u001b[0m: module 'numpy' has no attribute 'mode'"
     ]
    }
   ],
   "source": [
    "# Report mean, median and mode of \"critics_score\" and \"runtime\" \n",
    "\n",
    "# For critics_score- \n",
    "q1g_cs_mean = np.mean(movies['critics_score'])\n",
    "q1g_cs_median = np.median(movies['critics_score'])\n",
    "q1g_cs_mode = np.mode(movies['critics_score'])\n",
    "\n",
    "# For runtime- \n",
    "q1g_r_mean = np.mean(movies['runtime'])\n",
    "q1g_r_median = np.median(movies['runtime'])\n",
    "q1g_r_mode = np.mode(movies['runtime'])\n"
   ]
  },
  {
   "cell_type": "code",
   "execution_count": null,
   "metadata": {
    "deletable": false,
    "editable": false
   },
   "outputs": [],
   "source": [
    "grader.check(\"q1g\")"
   ]
  },
  {
   "cell_type": "markdown",
   "metadata": {
    "deletable": false,
    "editable": false
   },
   "source": [
    "## Q1(h) - Statistics, part 3\n",
    "\n",
    "Report the first quartile, 37th percentile, third quartile, and 83rd percentile\n",
    "for `critics_score` and `runtime` and assign it to the given variables.  "
   ]
  },
  {
   "cell_type": "code",
   "execution_count": null,
   "metadata": {
    "tags": []
   },
   "outputs": [],
   "source": [
    "# Report first quartile, 31st percentile, third quartile, and 90th percentile\n",
    "#  of \"critics_score\" and \"runtime\" \n",
    "\n",
    "# For critics_score- \n",
    "q1h_cs_q1 = ...\n",
    "q1h_cs_p37 = ...\n",
    "q1h_cs_q3 = ...\n",
    "q1h_cs_p83 = ...\n",
    "\n",
    "# For runtime- \n",
    "q1h_r_q1 = ...\n",
    "q1h_r_p37 = ...\n",
    "q1h_r_q3 = ...\n",
    "q1h_r_p83 = ...\n"
   ]
  },
  {
   "cell_type": "code",
   "execution_count": null,
   "metadata": {
    "deletable": false,
    "editable": false
   },
   "outputs": [],
   "source": [
    "grader.check(\"q1h\")"
   ]
  },
  {
   "cell_type": "markdown",
   "metadata": {
    "deletable": false,
    "editable": false
   },
   "source": [
    "<!-- BEGIN QUESTION -->\n",
    "\n",
    "# *Visualizations* \n",
    "\n",
    "## Q1(i) Visualization: Single Variable \n",
    "\n",
    "I highly encourage looking at the [Fundamentals of Visualization](https://clauswilke.com/dataviz/index.html) reference book to guide in the creation of “good” visualizations requested below.\n",
    "\n",
    "\n",
    "Create a bar plot for the `critics_rating` variable."
   ]
  },
  {
   "cell_type": "code",
   "execution_count": null,
   "metadata": {
    "tags": []
   },
   "outputs": [],
   "source": [
    "\n",
    "# Create bar plot for \"critics_rating\" \n",
    "\n",
    "\n"
   ]
  },
  {
   "cell_type": "markdown",
   "metadata": {
    "deletable": false,
    "editable": false
   },
   "source": [
    "<!-- END QUESTION -->\n",
    "\n",
    "<!-- BEGIN QUESTION -->\n",
    "\n",
    "## Q1(j) Visualization: Two Variables \n",
    "\n",
    "Create a violin plot for `imdb_rating` grouped by `mpaa_rating` (sorted by mpaa rating, where 'Unrated' is last).\n",
    "\n"
   ]
  },
  {
   "cell_type": "code",
   "execution_count": null,
   "metadata": {
    "tags": []
   },
   "outputs": [],
   "source": [
    "\n",
    "# Create a violin plot for `imdb_rating` grouped by `mpaa_rating` (sorted)\n",
    "\n",
    "\n"
   ]
  },
  {
   "cell_type": "markdown",
   "metadata": {
    "deletable": false,
    "editable": false
   },
   "source": [
    "<!-- END QUESTION -->\n",
    "\n",
    "<!-- BEGIN QUESTION -->\n",
    "\n",
    "## Q1(k) Visualization: Multiple variables\n",
    "\n",
    "Create a stacked bar chart to display the proportion of wins (nominations) for the 5 `best_*` variables.\n"
   ]
  },
  {
   "cell_type": "code",
   "execution_count": null,
   "metadata": {
    "tags": []
   },
   "outputs": [],
   "source": [
    "\n",
    "# Create a stacked bar chart to display the proportion of wins (nominations) \n",
    "#   for the 5 `best_*` variables.\n",
    "\n",
    "\n"
   ]
  },
  {
   "cell_type": "markdown",
   "metadata": {
    "deletable": false,
    "editable": false
   },
   "source": [
    "<!-- END QUESTION -->\n",
    "\n",
    "<!-- BEGIN QUESTION -->\n",
    "\n",
    "## Q1(l) Visualization: Two Variables \n",
    "\n",
    "Create an overlapping density plot for `critics_score` grouped by `audience_rating`. "
   ]
  },
  {
   "cell_type": "code",
   "execution_count": null,
   "metadata": {
    "tags": []
   },
   "outputs": [],
   "source": [
    "# Create overlapping density plot\n",
    "\n",
    "\n"
   ]
  },
  {
   "cell_type": "markdown",
   "metadata": {
    "deletable": false,
    "editable": false
   },
   "source": [
    "<!-- END QUESTION -->\n",
    "\n",
    "<!-- BEGIN QUESTION -->\n",
    "\n",
    "## Q1(m) Visualization: Multiple variables \n",
    "\n",
    "Create a small multiples (or faceted) scatter plot of `imdb_rating` (y-axis) against `runtime` (x-axis) for each `critics_rating`.\n"
   ]
  },
  {
   "cell_type": "code",
   "execution_count": null,
   "metadata": {
    "tags": []
   },
   "outputs": [],
   "source": [
    "\n",
    "# Create a small multiples (or faceted) scatter plot of `imdb_rating` vs. \n",
    "#   `runtime` for each `critics_rating`.\n",
    "\n",
    "\n"
   ]
  },
  {
   "cell_type": "markdown",
   "metadata": {
    "deletable": false,
    "editable": false
   },
   "source": [
    "<!-- END QUESTION -->\n",
    "\n",
    "<!-- BEGIN QUESTION -->\n",
    "\n",
    "## Q1(bonus)   \n",
    "\n",
    "Create a small multiples (or faceted) scatter plot of `imdb_rating` vs. `runtime` for each of the top 4 `genre` (in order of most frequent), colored with the `critics_rating`."
   ]
  },
  {
   "cell_type": "code",
   "execution_count": null,
   "metadata": {
    "tags": []
   },
   "outputs": [],
   "source": [
    "\n",
    "# Create a small multiples (or faceted) scatter plot of `imdb_rating` vs. \n",
    "#   `runtime` for each of the top 4 `genre`, colored by the `critics_rating`\n",
    "\n",
    "\n",
    "\n"
   ]
  },
  {
   "cell_type": "markdown",
   "metadata": {
    "deletable": false,
    "editable": false
   },
   "source": [
    "<!-- END QUESTION -->\n",
    "\n",
    "# Q2 - Data Preprocessing\n",
    "\n",
    "Let's make sure you become familiar using the scaling functions that are available in standard libraries: \n",
    "\n",
    "* Python: `MinMaxScaler` and `StandardScaler` or scale in `sklearn.preprocessing`\n",
    "\n",
    "Here you will use the `MinMaxScaler`.\n"
   ]
  },
  {
   "cell_type": "code",
   "execution_count": 3,
   "metadata": {
    "tags": []
   },
   "outputs": [
    {
     "name": "stdout",
     "output_type": "stream",
     "text": [
      "[[0.         0.        ]\n",
      " [0.17       0.03225806]\n",
      " [0.2        1.        ]\n",
      " [0.4        0.20967742]\n",
      " [0.65       0.4516129 ]\n",
      " [1.         0.53225806]]\n",
      "[[0.         0.        ]\n",
      " [0.17       0.03225806]\n",
      " [0.2        1.        ]\n",
      " [0.4        0.20967742]\n",
      " [0.65       0.4516129 ]\n",
      " [1.         0.53225806]]\n",
      "[[0.22       0.03225806]\n",
      " [0.38       0.83870968]\n",
      " [0.81       1.03225806]]\n"
     ]
    }
   ],
   "source": [
    "# train/test data \n",
    "q2train = pd.DataFrame({'x1': [20, 37, 40, 60, 85, 120], \n",
    "                        'x2': [-10, -8, 52, 3, 18, 23]})\n",
    "q2test = pd.DataFrame({'x1': [42, 58, 101], 'x2': [-8, 42, 54]})\n",
    "\n",
    "# Setup a scaler, fit and transform the training data \n",
    "scaler = preprocessing.MinMaxScaler()\n",
    "q2outA = scaler.fit_transform(q2train)\n",
    "print(q2outA)\n",
    "\n",
    "\n",
    "# Setup a MinMaxScaler with default range parameters\n",
    "# fit the scaler to the training data, transform it, and transform the test data\n",
    "scaler = preprocessing.MinMaxScaler()\n",
    "q2outBtrain = scaler.fit_transform(q2train)\n",
    "q2outBtest = scaler.transform(q2test)\n",
    "print(q2outBtrain)\n",
    "print(q2outBtest)"
   ]
  },
  {
   "cell_type": "code",
   "execution_count": 4,
   "metadata": {
    "deletable": false,
    "editable": false
   },
   "outputs": [
    {
     "data": {
      "text/html": [
       "<p><strong><pre style='display: inline;'>q2</pre></strong> passed! 🍀</p>"
      ],
      "text/plain": [
       "q2 results: All test cases passed!"
      ]
     },
     "execution_count": 4,
     "metadata": {},
     "output_type": "execute_result"
    }
   ],
   "source": [
    "grader.check(\"q2\")"
   ]
  },
  {
   "cell_type": "markdown",
   "metadata": {
    "deletable": false,
    "editable": false
   },
   "source": [
    "# Q3 - Data Preprocessing\n",
    "\n",
    "Let's make sure you become familiar using the scaling functions that are available in standard libraries: \n",
    "\n",
    "* Python: `MinMaxScaler` and `StandardScaler` or scale in `sklearn.preprocessing`\n",
    "\n",
    "Here you will use the `StandardScaler`."
   ]
  },
  {
   "cell_type": "code",
   "execution_count": 5,
   "metadata": {
    "tags": []
   },
   "outputs": [
    {
     "name": "stdout",
     "output_type": "stream",
     "text": [
      "[[-1.20221086 -1.08103207]\n",
      " [-0.69549389 -0.98702928]\n",
      " [-0.60607324  1.83305438]\n",
      " [-0.00993563 -0.47001394]\n",
      " [ 0.7352364   0.23500697]\n",
      " [ 1.77847723  0.47001394]]\n",
      "[[-1.20221086 -1.08103207]\n",
      " [-0.69549389 -0.98702928]\n",
      " [-0.60607324  1.83305438]\n",
      " [-0.00993563 -0.47001394]\n",
      " [ 0.7352364   0.23500697]\n",
      " [ 1.77847723  0.47001394]]\n",
      "[[-0.54645948 -0.98702928]\n",
      " [-0.06954939  1.36304044]\n",
      " [ 1.21214649  1.92705717]]\n"
     ]
    }
   ],
   "source": [
    "# train/test data \n",
    "# q2train = pd.DataFrame({'x1': [20, 37, 40, 60, 85, 120], \n",
    "#                       'x2': [-10, -8, 52, 3, 18, 23]})\n",
    "# q2test = pd.DataFrame({'x1': [42, 58, 101], 'x2': [-8, 42, 54]})\n",
    "\n",
    "\n",
    "# Setup a Standard scaler, fit and transform the training data \n",
    "scaler = preprocessing.StandardScaler()\n",
    "q3outA = scaler.fit_transform(q2train)\n",
    "print(q3outA)\n",
    "\n",
    "# use StandardScaler\n",
    "# fit the scaler to the training data, transform it, and transform the test data\n",
    "scaler = preprocessing.StandardScaler()\n",
    "q3outBtrain = scaler.fit_transform(q2train)\n",
    "q3outBtest = scaler.transform(q2test)\n",
    "print(q3outBtrain)\n",
    "print(q3outBtest)"
   ]
  },
  {
   "cell_type": "code",
   "execution_count": 6,
   "metadata": {
    "deletable": false,
    "editable": false
   },
   "outputs": [
    {
     "data": {
      "text/html": [
       "<p><strong><pre style='display: inline;'>q3</pre></strong> passed! 🙌</p>"
      ],
      "text/plain": [
       "q3 results: All test cases passed!"
      ]
     },
     "execution_count": 6,
     "metadata": {},
     "output_type": "execute_result"
    }
   ],
   "source": [
    "grader.check(\"q3\")"
   ]
  },
  {
   "cell_type": "markdown",
   "metadata": {
    "deletable": false,
    "editable": false,
    "tags": []
   },
   "source": [
    "# Q4 - Performance Metrics \n",
    "\n",
    "Write a function to calculate: \n",
    "(a) true positive rate,\n",
    "(b) false positive rate, \n",
    "(c) accuracy, and \n",
    "(d) Matthews Correlation Coefficient (MCC). \n",
    "\n",
    "You can make use of `sklearn.metrics` functions. \n",
    "\n",
    "The function will have inputs of `y_true` (np.array) - the true label for a set of samples and `y_pred` (np.array) - the predicted labels for a set of samples, and a threshold `thres_value` (float). \n",
    "\n",
    "The function returns a list of the true positive rate, false positive rate, accuracy and MCC for the inputs where the predicted labels are thresholded at the provided value (using >= comparisons). \n",
    "\n",
    "\n",
    "This function will then be used to create a DataFrames  with rows corresponding with the 10 thresholds (y_pred values) and columns reporting the different thresholds, the true positive rate (TPR), false positive rate (FPR), accuracy (ACC), and Matthews correlation coefficient (MCC).\n",
    "\n"
   ]
  },
  {
   "cell_type": "code",
   "execution_count": 9,
   "metadata": {
    "tags": []
   },
   "outputs": [
    {
     "data": {
      "text/html": [
       "<div>\n",
       "<style scoped>\n",
       "    .dataframe tbody tr th:only-of-type {\n",
       "        vertical-align: middle;\n",
       "    }\n",
       "\n",
       "    .dataframe tbody tr th {\n",
       "        vertical-align: top;\n",
       "    }\n",
       "\n",
       "    .dataframe thead th {\n",
       "        text-align: right;\n",
       "    }\n",
       "</style>\n",
       "<table border=\"1\" class=\"dataframe\">\n",
       "  <thead>\n",
       "    <tr style=\"text-align: right;\">\n",
       "      <th></th>\n",
       "      <th>Threshold</th>\n",
       "      <th>TPR</th>\n",
       "      <th>FPR</th>\n",
       "      <th>ACC</th>\n",
       "      <th>MCC</th>\n",
       "    </tr>\n",
       "  </thead>\n",
       "  <tbody>\n",
       "    <tr>\n",
       "      <th>0</th>\n",
       "      <td>0.98</td>\n",
       "      <td>0.2</td>\n",
       "      <td>0.0</td>\n",
       "      <td>0.6</td>\n",
       "      <td>0.333333</td>\n",
       "    </tr>\n",
       "    <tr>\n",
       "      <th>1</th>\n",
       "      <td>0.92</td>\n",
       "      <td>0.4</td>\n",
       "      <td>0.0</td>\n",
       "      <td>0.7</td>\n",
       "      <td>0.500000</td>\n",
       "    </tr>\n",
       "    <tr>\n",
       "      <th>2</th>\n",
       "      <td>0.85</td>\n",
       "      <td>0.4</td>\n",
       "      <td>0.2</td>\n",
       "      <td>0.6</td>\n",
       "      <td>0.218218</td>\n",
       "    </tr>\n",
       "    <tr>\n",
       "      <th>3</th>\n",
       "      <td>0.77</td>\n",
       "      <td>0.6</td>\n",
       "      <td>0.2</td>\n",
       "      <td>0.7</td>\n",
       "      <td>0.408248</td>\n",
       "    </tr>\n",
       "    <tr>\n",
       "      <th>4</th>\n",
       "      <td>0.71</td>\n",
       "      <td>0.8</td>\n",
       "      <td>0.2</td>\n",
       "      <td>0.8</td>\n",
       "      <td>0.600000</td>\n",
       "    </tr>\n",
       "    <tr>\n",
       "      <th>5</th>\n",
       "      <td>0.64</td>\n",
       "      <td>0.8</td>\n",
       "      <td>0.4</td>\n",
       "      <td>0.7</td>\n",
       "      <td>0.408248</td>\n",
       "    </tr>\n",
       "    <tr>\n",
       "      <th>6</th>\n",
       "      <td>0.57</td>\n",
       "      <td>1.0</td>\n",
       "      <td>0.4</td>\n",
       "      <td>0.8</td>\n",
       "      <td>0.654654</td>\n",
       "    </tr>\n",
       "    <tr>\n",
       "      <th>7</th>\n",
       "      <td>0.42</td>\n",
       "      <td>1.0</td>\n",
       "      <td>0.6</td>\n",
       "      <td>0.7</td>\n",
       "      <td>0.500000</td>\n",
       "    </tr>\n",
       "    <tr>\n",
       "      <th>8</th>\n",
       "      <td>0.34</td>\n",
       "      <td>1.0</td>\n",
       "      <td>0.8</td>\n",
       "      <td>0.6</td>\n",
       "      <td>0.333333</td>\n",
       "    </tr>\n",
       "    <tr>\n",
       "      <th>9</th>\n",
       "      <td>0.32</td>\n",
       "      <td>1.0</td>\n",
       "      <td>1.0</td>\n",
       "      <td>0.5</td>\n",
       "      <td>0.000000</td>\n",
       "    </tr>\n",
       "  </tbody>\n",
       "</table>\n",
       "</div>"
      ],
      "text/plain": [
       "   Threshold  TPR  FPR  ACC       MCC\n",
       "0       0.98  0.2  0.0  0.6  0.333333\n",
       "1       0.92  0.4  0.0  0.7  0.500000\n",
       "2       0.85  0.4  0.2  0.6  0.218218\n",
       "3       0.77  0.6  0.2  0.7  0.408248\n",
       "4       0.71  0.8  0.2  0.8  0.600000\n",
       "5       0.64  0.8  0.4  0.7  0.408248\n",
       "6       0.57  1.0  0.4  0.8  0.654654\n",
       "7       0.42  1.0  0.6  0.7  0.500000\n",
       "8       0.34  1.0  0.8  0.6  0.333333\n",
       "9       0.32  1.0  1.0  0.5  0.000000"
      ]
     },
     "execution_count": 9,
     "metadata": {},
     "output_type": "execute_result"
    }
   ],
   "source": [
    "\n",
    "def calc_metrics(y_true, y_pred, thres_value):\n",
    "    # Calculate tpr, fpr, accuracy, and MCC on input\n",
    "    # Input: \n",
    "    #  y_true - sample labels       (np.array)\n",
    "    #  y_pred - sample predictions  (np.array)\n",
    "    #  thres_value - threshold for predictions,  >= \n",
    "    # Return list of tpr, fpr, accuracy, and MCC \n",
    "    \n",
    "    y_pred_binary = np.where(y_pred >= thres_value, 1, 0)\n",
    "    tn, fp, fn, tp = confusion_matrix(y_true, y_pred_binary).ravel()\n",
    "    tpr = tp / (tp + fn) if (tp + fn) > 0 else 0\n",
    "    fpr = fp / (fp + tn) if (fp + tn) > 0 else 0\n",
    "    acc = metrics.accuracy_score(y_true, y_pred_binary)\n",
    "    mcc = metrics.matthews_corrcoef(y_true, y_pred_binary)\n",
    "    return [tpr, fpr, acc, mcc]\n",
    "\n",
    "\n",
    "\n",
    "y_true = np.array([1,1,0,1,1,0,1,0,0,0])\n",
    "y_pred = np.array([0.98,0.92,0.85,0.77,0.71,0.64,0.57,0.42,0.34,0.32])\n",
    "\n",
    "\n",
    "perfDF = pd.DataFrame(columns = ['Threshold', 'TPR', 'FPR', 'ACC', 'MCC']) \n",
    "i = 0 \n",
    "for thres in y_pred: \n",
    "    tpr_val, fpr_val, acc_val, mcc_val = calc_metrics(y_true, y_pred, thres)\n",
    "    perfDF.loc[i] = [thres, tpr_val, fpr_val, acc_val, mcc_val]\n",
    "    i = i+1\n",
    "\n",
    "perfDF"
   ]
  },
  {
   "cell_type": "code",
   "execution_count": 10,
   "metadata": {
    "deletable": false,
    "editable": false
   },
   "outputs": [
    {
     "data": {
      "text/html": [
       "<p><strong><pre style='display: inline;'>q4</pre></strong> passed! 🚀</p>"
      ],
      "text/plain": [
       "q4 results: All test cases passed!"
      ]
     },
     "execution_count": 10,
     "metadata": {},
     "output_type": "execute_result"
    }
   ],
   "source": [
    "grader.check(\"q4\")"
   ]
  },
  {
   "cell_type": "markdown",
   "metadata": {
    "deletable": false,
    "editable": false
   },
   "source": [
    "<!-- BEGIN QUESTION -->\n",
    "\n",
    "# Q5 - Plot ROC Curve:\n",
    "\n",
    "Use the results from Question 4 to plot the ROC curve for the data. \n",
    "\n",
    "Note, plot this curve using the standard plotting tools rather than any special library/package available for making ROC plots."
   ]
  },
  {
   "cell_type": "code",
   "execution_count": 11,
   "metadata": {
    "tags": []
   },
   "outputs": [
    {
     "data": {
      "image/png": "[encoded data removed]",
      "text/plain": [
       "<Figure size 800x600 with 1 Axes>"
      ]
     },
     "metadata": {},
     "output_type": "display_data"
    }
   ],
   "source": [
    "\n",
    "# Create a ROC curve using the results from Q4\n",
    "plt.figure(figsize=(8, 6))\n",
    "plt.plot(perfDF['FPR'], perfDF['TPR'], marker='o', linestyle='-', color='b', label='ROC Curve')\n",
    "plt.plot([0, 1], [0, 1], linestyle='--', color='gray', label='Random Classifier')\n",
    "plt.xlabel('False Positive Rate')\n",
    "plt.ylabel('True Positive Rate')\n",
    "plt.title('ROC Curve')\n",
    "plt.legend()\n",
    "plt.grid(True)\n",
    "plt.show()"
   ]
  },
  {
   "cell_type": "markdown",
   "metadata": {
    "deletable": false,
    "editable": false
   },
   "source": [
    "<!-- END QUESTION -->\n",
    "\n",
    "# Q6 - NBA Rookies\n",
    "\n",
    "For this problem you will use a data set of rookie NBA players from 1980 - 2017 seasons.  The dataset was collected from the NBA website API - https://www.nba.com. \n",
    "\n",
    "You will use the data from their rookie year to predict whether a player will last at least 5 seasons in the leaque. \n",
    "\n",
    "The data consists of variables:\n",
    "\n",
    "* `PlayerID`, `Player` - variables to identify individual samples (ignore for prediction)\n",
    "* `Tm`, `Year` - variables describing the year the player started and for what team (ignore for prediction)  \n",
    "* `TARGET` - This is the target / class feature to be predicted (whether the player was in the league for at least 5 years). \n",
    "\n",
    "The remaining variables are predictor variables for the models.  They come in pairs \"*\\_DIFF\" and \"*\\_A\" reporting the given statistic as the difference between Team A and Team B and the statistic itself for Team A. \n",
    "\n",
    "* `Pos` - position of the player, power forward, point guard, shooting guard, center, etc.\n",
    "* `Age` - player age\n",
    "* `G` - sum of number of games played\n",
    "* `GS` - sum of number of games started\n",
    "* `MP` - sum of number of minutes played\n",
    "* `PTS` - sum of number of points scored\n",
    "* `FG` - sum of number of field goals made (both 2 and 3 pointers)\n",
    "* `FGA` - sum of number of field goals attempted\n",
    "* `FG%` - FG / FGA, percentage of field goals made \n",
    "* `3P` - sum of the number of 3 pointers made\n",
    "* `3PA` - sum of the number of 3 pointers attempted\n",
    "* `3P%` - 3P / 3PA, percentage of 3 pointers made\n",
    "* `2P` - sum of the number of 2 point shots made\n",
    "* `2PA` - sum of the number of 2 point shots attempted\n",
    "* `2P%` - 2P / 2PA, percentage of 2 point shots made\n",
    "* `eFG%` - Effective Field Goal Percentage, (`FG` + 0.5 * `3P`)/`FGA`\n",
    "* `FT` - sum of the number of free throws made\n",
    "* `FTA` - sum of the number of free throws attempted\n",
    "* `FT%` - FT / FTA, percentage of free throws made\n",
    "* `ORB` - sum of the number of offensive rebounds\n",
    "* `DRB` - sum of the number of defensive rebounds\n",
    "* `TRB` - sum of the number of total rebounds\n",
    "* `AST` - sum of the number of assists\n",
    "* `STL` - sum of the number of steals\n",
    "* `BLK` - sum of the number of blocks\n",
    "* `TOV` - sum of the number of turnovers\n",
    "* `PF` - sum of the number of personal fouls\n",
    "\n",
    "More information on the stats used can be found: https://www.nba.com/stats/help/glossary   \n",
    "*Note, some of the abbreviations used here are slightly different* \n"
   ]
  },
  {
   "cell_type": "markdown",
   "metadata": {
    "deletable": false,
    "editable": false,
    "tags": []
   },
   "source": [
    "## Q6(a) - Load Data \n",
    "\n",
    "Load the `nba` data.\n"
   ]
  },
  {
   "cell_type": "code",
   "execution_count": 6,
   "metadata": {
    "tags": []
   },
   "outputs": [
    {
     "data": {
      "text/html": [
       "<div>\n",
       "<style scoped>\n",
       "    .dataframe tbody tr th:only-of-type {\n",
       "        vertical-align: middle;\n",
       "    }\n",
       "\n",
       "    .dataframe tbody tr th {\n",
       "        vertical-align: top;\n",
       "    }\n",
       "\n",
       "    .dataframe thead th {\n",
       "        text-align: right;\n",
       "    }\n",
       "</style>\n",
       "<table border=\"1\" class=\"dataframe\">\n",
       "  <thead>\n",
       "    <tr style=\"text-align: right;\">\n",
       "      <th></th>\n",
       "      <th>PlayerID</th>\n",
       "      <th>Player</th>\n",
       "      <th>Pos</th>\n",
       "      <th>Age</th>\n",
       "      <th>Tm</th>\n",
       "      <th>Year</th>\n",
       "      <th>G</th>\n",
       "      <th>GS</th>\n",
       "      <th>MP</th>\n",
       "      <th>PTS</th>\n",
       "      <th>...</th>\n",
       "      <th>FT%</th>\n",
       "      <th>ORB</th>\n",
       "      <th>DRB</th>\n",
       "      <th>TRB</th>\n",
       "      <th>AST</th>\n",
       "      <th>STL</th>\n",
       "      <th>BLK</th>\n",
       "      <th>TOV</th>\n",
       "      <th>PF</th>\n",
       "      <th>TARGET</th>\n",
       "    </tr>\n",
       "  </thead>\n",
       "  <tbody>\n",
       "    <tr>\n",
       "      <th>0</th>\n",
       "      <td>abdelal01</td>\n",
       "      <td>Alaa Abdelnaby</td>\n",
       "      <td>PF</td>\n",
       "      <td>22</td>\n",
       "      <td>POR</td>\n",
       "      <td>1991</td>\n",
       "      <td>43</td>\n",
       "      <td>0.0</td>\n",
       "      <td>290</td>\n",
       "      <td>135</td>\n",
       "      <td>...</td>\n",
       "      <td>0.568182</td>\n",
       "      <td>27</td>\n",
       "      <td>62</td>\n",
       "      <td>89</td>\n",
       "      <td>12</td>\n",
       "      <td>4</td>\n",
       "      <td>12</td>\n",
       "      <td>22</td>\n",
       "      <td>39</td>\n",
       "      <td>True</td>\n",
       "    </tr>\n",
       "    <tr>\n",
       "      <th>1</th>\n",
       "      <td>abdulma02</td>\n",
       "      <td>Mahmoud Abdul-Rauf</td>\n",
       "      <td>PG</td>\n",
       "      <td>21</td>\n",
       "      <td>DEN</td>\n",
       "      <td>1991</td>\n",
       "      <td>67</td>\n",
       "      <td>19.0</td>\n",
       "      <td>1505</td>\n",
       "      <td>942</td>\n",
       "      <td>...</td>\n",
       "      <td>0.857143</td>\n",
       "      <td>34</td>\n",
       "      <td>87</td>\n",
       "      <td>121</td>\n",
       "      <td>206</td>\n",
       "      <td>55</td>\n",
       "      <td>4</td>\n",
       "      <td>110</td>\n",
       "      <td>149</td>\n",
       "      <td>True</td>\n",
       "    </tr>\n",
       "    <tr>\n",
       "      <th>2</th>\n",
       "      <td>abdulta01</td>\n",
       "      <td>Tariq Abdul-Wahad</td>\n",
       "      <td>SG</td>\n",
       "      <td>23</td>\n",
       "      <td>SAC</td>\n",
       "      <td>1998</td>\n",
       "      <td>59</td>\n",
       "      <td>16.0</td>\n",
       "      <td>959</td>\n",
       "      <td>376</td>\n",
       "      <td>...</td>\n",
       "      <td>0.672000</td>\n",
       "      <td>44</td>\n",
       "      <td>72</td>\n",
       "      <td>116</td>\n",
       "      <td>51</td>\n",
       "      <td>35</td>\n",
       "      <td>13</td>\n",
       "      <td>65</td>\n",
       "      <td>81</td>\n",
       "      <td>True</td>\n",
       "    </tr>\n",
       "    <tr>\n",
       "      <th>3</th>\n",
       "      <td>abdursh01</td>\n",
       "      <td>Shareef Abdur-Rahim</td>\n",
       "      <td>PF</td>\n",
       "      <td>20</td>\n",
       "      <td>VAN</td>\n",
       "      <td>1997</td>\n",
       "      <td>80</td>\n",
       "      <td>71.0</td>\n",
       "      <td>2802</td>\n",
       "      <td>1494</td>\n",
       "      <td>...</td>\n",
       "      <td>0.745665</td>\n",
       "      <td>216</td>\n",
       "      <td>339</td>\n",
       "      <td>555</td>\n",
       "      <td>175</td>\n",
       "      <td>79</td>\n",
       "      <td>79</td>\n",
       "      <td>225</td>\n",
       "      <td>199</td>\n",
       "      <td>True</td>\n",
       "    </tr>\n",
       "    <tr>\n",
       "      <th>4</th>\n",
       "      <td>abrinal01</td>\n",
       "      <td>Álex Abrines</td>\n",
       "      <td>SG</td>\n",
       "      <td>23</td>\n",
       "      <td>OKC</td>\n",
       "      <td>2017</td>\n",
       "      <td>68</td>\n",
       "      <td>6.0</td>\n",
       "      <td>1055</td>\n",
       "      <td>406</td>\n",
       "      <td>...</td>\n",
       "      <td>0.897959</td>\n",
       "      <td>18</td>\n",
       "      <td>68</td>\n",
       "      <td>86</td>\n",
       "      <td>40</td>\n",
       "      <td>37</td>\n",
       "      <td>8</td>\n",
       "      <td>33</td>\n",
       "      <td>114</td>\n",
       "      <td>False</td>\n",
       "    </tr>\n",
       "  </tbody>\n",
       "</table>\n",
       "<p>5 rows × 32 columns</p>\n",
       "</div>"
      ],
      "text/plain": [
       "    PlayerID               Player Pos  Age   Tm  Year   G    GS    MP   PTS  \\\n",
       "0  abdelal01       Alaa Abdelnaby  PF   22  POR  1991  43   0.0   290   135   \n",
       "1  abdulma02   Mahmoud Abdul-Rauf  PG   21  DEN  1991  67  19.0  1505   942   \n",
       "2  abdulta01    Tariq Abdul-Wahad  SG   23  SAC  1998  59  16.0   959   376   \n",
       "3  abdursh01  Shareef Abdur-Rahim  PF   20  VAN  1997  80  71.0  2802  1494   \n",
       "4  abrinal01         Álex Abrines  SG   23  OKC  2017  68   6.0  1055   406   \n",
       "\n",
       "   ...       FT%  ORB  DRB  TRB  AST  STL  BLK  TOV   PF  TARGET  \n",
       "0  ...  0.568182   27   62   89   12    4   12   22   39    True  \n",
       "1  ...  0.857143   34   87  121  206   55    4  110  149    True  \n",
       "2  ...  0.672000   44   72  116   51   35   13   65   81    True  \n",
       "3  ...  0.745665  216  339  555  175   79   79  225  199    True  \n",
       "4  ...  0.897959   18   68   86   40   37    8   33  114   False  \n",
       "\n",
       "[5 rows x 32 columns]"
      ]
     },
     "execution_count": 6,
     "metadata": {},
     "output_type": "execute_result"
    }
   ],
   "source": [
    "nba = pd.read_csv('nba_rookies.csv', na_values=[\"N/A\", \"NA\", \" \", \"\"]) \n",
    "\n",
    "nba.head()"
   ]
  },
  {
   "cell_type": "code",
   "execution_count": 7,
   "metadata": {
    "deletable": false,
    "editable": false
   },
   "outputs": [
    {
     "data": {
      "text/html": [
       "<p><strong><pre style='display: inline;'>q6a</pre></strong> passed! 🍀</p>"
      ],
      "text/plain": [
       "q6a results: All test cases passed!"
      ]
     },
     "execution_count": 7,
     "metadata": {},
     "output_type": "execute_result"
    }
   ],
   "source": [
    "grader.check(\"q6a\")"
   ]
  },
  {
   "cell_type": "markdown",
   "metadata": {
    "deletable": false,
    "editable": false
   },
   "source": [
    "## Q6(b) - Missing Data \n",
    "\n",
    "Let's investigate any missing values in the nba data. \n",
    "\n",
    "First, calculate and report the percentage of missing data for that variable (percentage of rows) in a DataSeries, `miss_nba`. "
   ]
  },
  {
   "cell_type": "code",
   "execution_count": 31,
   "metadata": {
    "tags": []
   },
   "outputs": [
    {
     "data": {
      "text/plain": [
       "PlayerID     0.000000\n",
       "Player       0.000000\n",
       "Pos          0.000000\n",
       "Age          0.000000\n",
       "Tm           0.000000\n",
       "Year         0.000000\n",
       "G            0.000000\n",
       "GS           4.807325\n",
       "MP           0.000000\n",
       "PTS          0.000000\n",
       "FG           0.000000\n",
       "FGA          0.000000\n",
       "FG%          0.763068\n",
       "3P           0.000000\n",
       "3PA          0.000000\n",
       "3P%         23.693247\n",
       "2P           0.000000\n",
       "2PA          0.000000\n",
       "2P%          0.915681\n",
       "eFG%         0.763068\n",
       "FT           0.000000\n",
       "FTA          0.000000\n",
       "FT%          6.676841\n",
       "ORB          0.000000\n",
       "DRB          0.000000\n",
       "TRB          0.000000\n",
       "AST          0.000000\n",
       "STL          0.000000\n",
       "BLK          0.000000\n",
       "TOV          0.000000\n",
       "PF           0.000000\n",
       "TARGET       0.000000\n",
       "dtype: float64"
      ]
     },
     "execution_count": 31,
     "metadata": {},
     "output_type": "execute_result"
    }
   ],
   "source": [
    "miss_nba = 100.0 * nba.isna().sum() / (nba.count() + nba.isna().sum())\n",
    "miss_nba"
   ]
  },
  {
   "cell_type": "code",
   "execution_count": 32,
   "metadata": {
    "deletable": false,
    "editable": false
   },
   "outputs": [
    {
     "data": {
      "text/html": [
       "<p><strong><pre style='display: inline;'>q6b</pre></strong> passed! 🌈</p>"
      ],
      "text/plain": [
       "q6b results: All test cases passed!"
      ]
     },
     "execution_count": 32,
     "metadata": {},
     "output_type": "execute_result"
    }
   ],
   "source": [
    "grader.check(\"q6b\")"
   ]
  },
  {
   "cell_type": "markdown",
   "metadata": {},
   "source": [
    "Explore where these missing values you in the following code cell. \n",
    "\n",
    "**BE SURE TO COMMENT OUT YOUR CODE BEFORE SUBMITTING**"
   ]
  },
  {
   "cell_type": "code",
   "execution_count": 47,
   "metadata": {},
   "outputs": [
    {
     "data": {
      "text/html": [
       "<div>\n",
       "<style scoped>\n",
       "    .dataframe tbody tr th:only-of-type {\n",
       "        vertical-align: middle;\n",
       "    }\n",
       "\n",
       "    .dataframe tbody tr th {\n",
       "        vertical-align: top;\n",
       "    }\n",
       "\n",
       "    .dataframe thead th {\n",
       "        text-align: right;\n",
       "    }\n",
       "</style>\n",
       "<table border=\"1\" class=\"dataframe\">\n",
       "  <thead>\n",
       "    <tr style=\"text-align: right;\">\n",
       "      <th></th>\n",
       "      <th>PlayerID</th>\n",
       "      <th>Player</th>\n",
       "      <th>Pos</th>\n",
       "      <th>Age</th>\n",
       "      <th>Tm</th>\n",
       "      <th>Year</th>\n",
       "      <th>G</th>\n",
       "      <th>GS</th>\n",
       "      <th>MP</th>\n",
       "      <th>PTS</th>\n",
       "      <th>...</th>\n",
       "      <th>FT%</th>\n",
       "      <th>ORB</th>\n",
       "      <th>DRB</th>\n",
       "      <th>TRB</th>\n",
       "      <th>AST</th>\n",
       "      <th>STL</th>\n",
       "      <th>BLK</th>\n",
       "      <th>TOV</th>\n",
       "      <th>PF</th>\n",
       "      <th>TARGET</th>\n",
       "    </tr>\n",
       "  </thead>\n",
       "  <tbody>\n",
       "    <tr>\n",
       "      <th>41</th>\n",
       "      <td>allumda01</td>\n",
       "      <td>Darrell Allums</td>\n",
       "      <td>PF</td>\n",
       "      <td>22</td>\n",
       "      <td>DAL</td>\n",
       "      <td>1981</td>\n",
       "      <td>22</td>\n",
       "      <td>NaN</td>\n",
       "      <td>276</td>\n",
       "      <td>59</td>\n",
       "      <td>...</td>\n",
       "      <td>0.590909</td>\n",
       "      <td>19</td>\n",
       "      <td>46</td>\n",
       "      <td>65</td>\n",
       "      <td>25</td>\n",
       "      <td>5</td>\n",
       "      <td>8</td>\n",
       "      <td>23</td>\n",
       "      <td>51</td>\n",
       "      <td>False</td>\n",
       "    </tr>\n",
       "    <tr>\n",
       "      <th>111</th>\n",
       "      <td>baileja01</td>\n",
       "      <td>James Bailey</td>\n",
       "      <td>PF</td>\n",
       "      <td>22</td>\n",
       "      <td>SEA</td>\n",
       "      <td>1980</td>\n",
       "      <td>67</td>\n",
       "      <td>NaN</td>\n",
       "      <td>726</td>\n",
       "      <td>312</td>\n",
       "      <td>...</td>\n",
       "      <td>0.673267</td>\n",
       "      <td>71</td>\n",
       "      <td>126</td>\n",
       "      <td>197</td>\n",
       "      <td>28</td>\n",
       "      <td>21</td>\n",
       "      <td>54</td>\n",
       "      <td>79</td>\n",
       "      <td>116</td>\n",
       "      <td>True</td>\n",
       "    </tr>\n",
       "    <tr>\n",
       "      <th>144</th>\n",
       "      <td>batesbi01</td>\n",
       "      <td>Billy Ray Bates</td>\n",
       "      <td>SG</td>\n",
       "      <td>23</td>\n",
       "      <td>POR</td>\n",
       "      <td>1980</td>\n",
       "      <td>16</td>\n",
       "      <td>NaN</td>\n",
       "      <td>235</td>\n",
       "      <td>180</td>\n",
       "      <td>...</td>\n",
       "      <td>0.717949</td>\n",
       "      <td>13</td>\n",
       "      <td>16</td>\n",
       "      <td>29</td>\n",
       "      <td>31</td>\n",
       "      <td>14</td>\n",
       "      <td>2</td>\n",
       "      <td>20</td>\n",
       "      <td>26</td>\n",
       "      <td>False</td>\n",
       "    </tr>\n",
       "    <tr>\n",
       "      <th>201</th>\n",
       "      <td>blackno01</td>\n",
       "      <td>Norman Black</td>\n",
       "      <td>SG</td>\n",
       "      <td>23</td>\n",
       "      <td>DET</td>\n",
       "      <td>1981</td>\n",
       "      <td>3</td>\n",
       "      <td>NaN</td>\n",
       "      <td>28</td>\n",
       "      <td>8</td>\n",
       "      <td>...</td>\n",
       "      <td>0.250000</td>\n",
       "      <td>0</td>\n",
       "      <td>2</td>\n",
       "      <td>2</td>\n",
       "      <td>2</td>\n",
       "      <td>1</td>\n",
       "      <td>0</td>\n",
       "      <td>1</td>\n",
       "      <td>2</td>\n",
       "      <td>False</td>\n",
       "    </tr>\n",
       "    <tr>\n",
       "      <th>238</th>\n",
       "      <td>bostola01</td>\n",
       "      <td>Lawrence Boston</td>\n",
       "      <td>PF</td>\n",
       "      <td>23</td>\n",
       "      <td>WSB</td>\n",
       "      <td>1980</td>\n",
       "      <td>13</td>\n",
       "      <td>NaN</td>\n",
       "      <td>125</td>\n",
       "      <td>56</td>\n",
       "      <td>...</td>\n",
       "      <td>0.615385</td>\n",
       "      <td>19</td>\n",
       "      <td>20</td>\n",
       "      <td>39</td>\n",
       "      <td>2</td>\n",
       "      <td>4</td>\n",
       "      <td>2</td>\n",
       "      <td>8</td>\n",
       "      <td>25</td>\n",
       "      <td>False</td>\n",
       "    </tr>\n",
       "    <tr>\n",
       "      <th>...</th>\n",
       "      <td>...</td>\n",
       "      <td>...</td>\n",
       "      <td>...</td>\n",
       "      <td>...</td>\n",
       "      <td>...</td>\n",
       "      <td>...</td>\n",
       "      <td>...</td>\n",
       "      <td>...</td>\n",
       "      <td>...</td>\n",
       "      <td>...</td>\n",
       "      <td>...</td>\n",
       "      <td>...</td>\n",
       "      <td>...</td>\n",
       "      <td>...</td>\n",
       "      <td>...</td>\n",
       "      <td>...</td>\n",
       "      <td>...</td>\n",
       "      <td>...</td>\n",
       "      <td>...</td>\n",
       "      <td>...</td>\n",
       "      <td>...</td>\n",
       "    </tr>\n",
       "    <tr>\n",
       "      <th>2542</th>\n",
       "      <td>willisl01</td>\n",
       "      <td>Sly Williams</td>\n",
       "      <td>SF</td>\n",
       "      <td>22</td>\n",
       "      <td>NYK</td>\n",
       "      <td>1980</td>\n",
       "      <td>57</td>\n",
       "      <td>NaN</td>\n",
       "      <td>556</td>\n",
       "      <td>266</td>\n",
       "      <td>...</td>\n",
       "      <td>0.644444</td>\n",
       "      <td>65</td>\n",
       "      <td>56</td>\n",
       "      <td>121</td>\n",
       "      <td>36</td>\n",
       "      <td>19</td>\n",
       "      <td>8</td>\n",
       "      <td>49</td>\n",
       "      <td>73</td>\n",
       "      <td>True</td>\n",
       "    </tr>\n",
       "    <tr>\n",
       "      <th>2548</th>\n",
       "      <td>wilsobu01</td>\n",
       "      <td>Bubba Wilson</td>\n",
       "      <td>SG</td>\n",
       "      <td>24</td>\n",
       "      <td>GSW</td>\n",
       "      <td>1980</td>\n",
       "      <td>16</td>\n",
       "      <td>NaN</td>\n",
       "      <td>143</td>\n",
       "      <td>17</td>\n",
       "      <td>...</td>\n",
       "      <td>0.500000</td>\n",
       "      <td>6</td>\n",
       "      <td>10</td>\n",
       "      <td>16</td>\n",
       "      <td>12</td>\n",
       "      <td>2</td>\n",
       "      <td>0</td>\n",
       "      <td>8</td>\n",
       "      <td>11</td>\n",
       "      <td>False</td>\n",
       "    </tr>\n",
       "    <tr>\n",
       "      <th>2574</th>\n",
       "      <td>woodsmi01</td>\n",
       "      <td>Mike Woodson</td>\n",
       "      <td>SG</td>\n",
       "      <td>22</td>\n",
       "      <td>NYK</td>\n",
       "      <td>1981</td>\n",
       "      <td>81</td>\n",
       "      <td>NaN</td>\n",
       "      <td>949</td>\n",
       "      <td>380</td>\n",
       "      <td>...</td>\n",
       "      <td>0.765625</td>\n",
       "      <td>33</td>\n",
       "      <td>64</td>\n",
       "      <td>97</td>\n",
       "      <td>75</td>\n",
       "      <td>36</td>\n",
       "      <td>12</td>\n",
       "      <td>54</td>\n",
       "      <td>95</td>\n",
       "      <td>True</td>\n",
       "    </tr>\n",
       "    <tr>\n",
       "      <th>2580</th>\n",
       "      <td>worthsa01</td>\n",
       "      <td>Sam Worthen</td>\n",
       "      <td>PG</td>\n",
       "      <td>23</td>\n",
       "      <td>CHI</td>\n",
       "      <td>1981</td>\n",
       "      <td>64</td>\n",
       "      <td>NaN</td>\n",
       "      <td>945</td>\n",
       "      <td>235</td>\n",
       "      <td>...</td>\n",
       "      <td>0.750000</td>\n",
       "      <td>22</td>\n",
       "      <td>93</td>\n",
       "      <td>115</td>\n",
       "      <td>115</td>\n",
       "      <td>57</td>\n",
       "      <td>6</td>\n",
       "      <td>91</td>\n",
       "      <td>115</td>\n",
       "      <td>False</td>\n",
       "    </tr>\n",
       "    <tr>\n",
       "      <th>2612</th>\n",
       "      <td>zenoto01</td>\n",
       "      <td>Tony Zeno</td>\n",
       "      <td>SF</td>\n",
       "      <td>22</td>\n",
       "      <td>IND</td>\n",
       "      <td>1980</td>\n",
       "      <td>8</td>\n",
       "      <td>NaN</td>\n",
       "      <td>59</td>\n",
       "      <td>14</td>\n",
       "      <td>...</td>\n",
       "      <td>1.000000</td>\n",
       "      <td>3</td>\n",
       "      <td>11</td>\n",
       "      <td>14</td>\n",
       "      <td>1</td>\n",
       "      <td>4</td>\n",
       "      <td>3</td>\n",
       "      <td>9</td>\n",
       "      <td>13</td>\n",
       "      <td>False</td>\n",
       "    </tr>\n",
       "  </tbody>\n",
       "</table>\n",
       "<p>126 rows × 32 columns</p>\n",
       "</div>"
      ],
      "text/plain": [
       "       PlayerID           Player Pos  Age   Tm  Year   G  GS   MP  PTS  ...  \\\n",
       "41    allumda01   Darrell Allums  PF   22  DAL  1981  22 NaN  276   59  ...   \n",
       "111   baileja01     James Bailey  PF   22  SEA  1980  67 NaN  726  312  ...   \n",
       "144   batesbi01  Billy Ray Bates  SG   23  POR  1980  16 NaN  235  180  ...   \n",
       "201   blackno01     Norman Black  SG   23  DET  1981   3 NaN   28    8  ...   \n",
       "238   bostola01  Lawrence Boston  PF   23  WSB  1980  13 NaN  125   56  ...   \n",
       "...         ...              ...  ..  ...  ...   ...  ..  ..  ...  ...  ...   \n",
       "2542  willisl01     Sly Williams  SF   22  NYK  1980  57 NaN  556  266  ...   \n",
       "2548  wilsobu01     Bubba Wilson  SG   24  GSW  1980  16 NaN  143   17  ...   \n",
       "2574  woodsmi01     Mike Woodson  SG   22  NYK  1981  81 NaN  949  380  ...   \n",
       "2580  worthsa01      Sam Worthen  PG   23  CHI  1981  64 NaN  945  235  ...   \n",
       "2612   zenoto01        Tony Zeno  SF   22  IND  1980   8 NaN   59   14  ...   \n",
       "\n",
       "           FT%  ORB  DRB  TRB  AST  STL  BLK  TOV   PF  TARGET  \n",
       "41    0.590909   19   46   65   25    5    8   23   51   False  \n",
       "111   0.673267   71  126  197   28   21   54   79  116    True  \n",
       "144   0.717949   13   16   29   31   14    2   20   26   False  \n",
       "201   0.250000    0    2    2    2    1    0    1    2   False  \n",
       "238   0.615385   19   20   39    2    4    2    8   25   False  \n",
       "...        ...  ...  ...  ...  ...  ...  ...  ...  ...     ...  \n",
       "2542  0.644444   65   56  121   36   19    8   49   73    True  \n",
       "2548  0.500000    6   10   16   12    2    0    8   11   False  \n",
       "2574  0.765625   33   64   97   75   36   12   54   95    True  \n",
       "2580  0.750000   22   93  115  115   57    6   91  115   False  \n",
       "2612  1.000000    3   11   14    1    4    3    9   13   False  \n",
       "\n",
       "[126 rows x 32 columns]"
      ]
     },
     "execution_count": 47,
     "metadata": {},
     "output_type": "execute_result"
    }
   ],
   "source": [
    "# explore where the missing values are in your data. \n",
    "# nba[nba['GS'].isna()]\n",
    "# nba[nba['FG%'].isna()]\n",
    "# nba[nba['3P%'].isna()]\n",
    "# nba[nba['2P%'].isna()]\n",
    "# nba[nba['eFG%'].isna()]\n",
    "# nba[nba['FT%'].isna()]"
   ]
  },
  {
   "cell_type": "markdown",
   "metadata": {
    "deletable": false,
    "editable": false
   },
   "source": [
    "## Q6(c) - Handle missing data\n",
    "\n",
    "By investigating where the missing data is, I hope you discovered the following: \n",
    "\n",
    "The missing values reside in two main types of columns (and for two different reasons):\n",
    "* `GS` the game started column has missing values for almost all rookies in the 1980 and 1981 seasons with a few exceptions, e.g., Larry Bird, Clint Richardson, etc.\n",
    "* Columns that calculate a percentage, `FG%`, `3P%`, `2P%`, `eFG%`, `FT%`\n",
    "Here the missing values are due to a divide by zero.\n",
    "\n",
    "Due to the different reasons for the data missing values will be handled differently in each situation. \n",
    "\n",
    "First, the missing values for `GS`, because there is not way to impute these values (and there are so few players in the 1980 and 1981 season having this information), the **all** samples from these two seasons should be deleted. \n",
    "\n",
    "For the missing values in the \"percentage\" columns, replace those missing values with 0. \n",
    "\n",
    "Call you new DataFrame after performing these operations `nba2`.\n",
    "\n",
    "\n",
    "*Note* There may be situations where how you handle missing data (in particular, using imputation methods) should be done in the workflow/pipeline after already splitting for training/testing data in order to avoid possible data leakage.  However, the methods we employ here for dealing the the missing data are not using global properties to perform the imputation, therefore can be done at this state of the analysis. "
   ]
  },
  {
   "cell_type": "code",
   "execution_count": 115,
   "metadata": {
    "scrolled": true,
    "tags": []
   },
   "outputs": [
    {
     "data": {
      "text/html": [
       "<div>\n",
       "<style scoped>\n",
       "    .dataframe tbody tr th:only-of-type {\n",
       "        vertical-align: middle;\n",
       "    }\n",
       "\n",
       "    .dataframe tbody tr th {\n",
       "        vertical-align: top;\n",
       "    }\n",
       "\n",
       "    .dataframe thead th {\n",
       "        text-align: right;\n",
       "    }\n",
       "</style>\n",
       "<table border=\"1\" class=\"dataframe\">\n",
       "  <thead>\n",
       "    <tr style=\"text-align: right;\">\n",
       "      <th></th>\n",
       "      <th>PlayerID</th>\n",
       "      <th>Player</th>\n",
       "      <th>Pos</th>\n",
       "      <th>Age</th>\n",
       "      <th>Tm</th>\n",
       "      <th>Year</th>\n",
       "      <th>G</th>\n",
       "      <th>GS</th>\n",
       "      <th>MP</th>\n",
       "      <th>PTS</th>\n",
       "      <th>...</th>\n",
       "      <th>FT%</th>\n",
       "      <th>ORB</th>\n",
       "      <th>DRB</th>\n",
       "      <th>TRB</th>\n",
       "      <th>AST</th>\n",
       "      <th>STL</th>\n",
       "      <th>BLK</th>\n",
       "      <th>TOV</th>\n",
       "      <th>PF</th>\n",
       "      <th>TARGET</th>\n",
       "    </tr>\n",
       "  </thead>\n",
       "  <tbody>\n",
       "    <tr>\n",
       "      <th>0</th>\n",
       "      <td>abdelal01</td>\n",
       "      <td>Alaa Abdelnaby</td>\n",
       "      <td>PF</td>\n",
       "      <td>22</td>\n",
       "      <td>POR</td>\n",
       "      <td>1991</td>\n",
       "      <td>43</td>\n",
       "      <td>0.0</td>\n",
       "      <td>290</td>\n",
       "      <td>135</td>\n",
       "      <td>...</td>\n",
       "      <td>0.568182</td>\n",
       "      <td>27</td>\n",
       "      <td>62</td>\n",
       "      <td>89</td>\n",
       "      <td>12</td>\n",
       "      <td>4</td>\n",
       "      <td>12</td>\n",
       "      <td>22</td>\n",
       "      <td>39</td>\n",
       "      <td>True</td>\n",
       "    </tr>\n",
       "    <tr>\n",
       "      <th>1</th>\n",
       "      <td>abdulma02</td>\n",
       "      <td>Mahmoud Abdul-Rauf</td>\n",
       "      <td>PG</td>\n",
       "      <td>21</td>\n",
       "      <td>DEN</td>\n",
       "      <td>1991</td>\n",
       "      <td>67</td>\n",
       "      <td>19.0</td>\n",
       "      <td>1505</td>\n",
       "      <td>942</td>\n",
       "      <td>...</td>\n",
       "      <td>0.857143</td>\n",
       "      <td>34</td>\n",
       "      <td>87</td>\n",
       "      <td>121</td>\n",
       "      <td>206</td>\n",
       "      <td>55</td>\n",
       "      <td>4</td>\n",
       "      <td>110</td>\n",
       "      <td>149</td>\n",
       "      <td>True</td>\n",
       "    </tr>\n",
       "    <tr>\n",
       "      <th>2</th>\n",
       "      <td>abdulta01</td>\n",
       "      <td>Tariq Abdul-Wahad</td>\n",
       "      <td>SG</td>\n",
       "      <td>23</td>\n",
       "      <td>SAC</td>\n",
       "      <td>1998</td>\n",
       "      <td>59</td>\n",
       "      <td>16.0</td>\n",
       "      <td>959</td>\n",
       "      <td>376</td>\n",
       "      <td>...</td>\n",
       "      <td>0.672000</td>\n",
       "      <td>44</td>\n",
       "      <td>72</td>\n",
       "      <td>116</td>\n",
       "      <td>51</td>\n",
       "      <td>35</td>\n",
       "      <td>13</td>\n",
       "      <td>65</td>\n",
       "      <td>81</td>\n",
       "      <td>True</td>\n",
       "    </tr>\n",
       "    <tr>\n",
       "      <th>3</th>\n",
       "      <td>abdursh01</td>\n",
       "      <td>Shareef Abdur-Rahim</td>\n",
       "      <td>PF</td>\n",
       "      <td>20</td>\n",
       "      <td>VAN</td>\n",
       "      <td>1997</td>\n",
       "      <td>80</td>\n",
       "      <td>71.0</td>\n",
       "      <td>2802</td>\n",
       "      <td>1494</td>\n",
       "      <td>...</td>\n",
       "      <td>0.745665</td>\n",
       "      <td>216</td>\n",
       "      <td>339</td>\n",
       "      <td>555</td>\n",
       "      <td>175</td>\n",
       "      <td>79</td>\n",
       "      <td>79</td>\n",
       "      <td>225</td>\n",
       "      <td>199</td>\n",
       "      <td>True</td>\n",
       "    </tr>\n",
       "    <tr>\n",
       "      <th>4</th>\n",
       "      <td>abrinal01</td>\n",
       "      <td>Álex Abrines</td>\n",
       "      <td>SG</td>\n",
       "      <td>23</td>\n",
       "      <td>OKC</td>\n",
       "      <td>2017</td>\n",
       "      <td>68</td>\n",
       "      <td>6.0</td>\n",
       "      <td>1055</td>\n",
       "      <td>406</td>\n",
       "      <td>...</td>\n",
       "      <td>0.897959</td>\n",
       "      <td>18</td>\n",
       "      <td>68</td>\n",
       "      <td>86</td>\n",
       "      <td>40</td>\n",
       "      <td>37</td>\n",
       "      <td>8</td>\n",
       "      <td>33</td>\n",
       "      <td>114</td>\n",
       "      <td>False</td>\n",
       "    </tr>\n",
       "  </tbody>\n",
       "</table>\n",
       "<p>5 rows × 32 columns</p>\n",
       "</div>"
      ],
      "text/plain": [
       "    PlayerID               Player Pos  Age   Tm  Year   G    GS    MP   PTS  \\\n",
       "0  abdelal01       Alaa Abdelnaby  PF   22  POR  1991  43   0.0   290   135   \n",
       "1  abdulma02   Mahmoud Abdul-Rauf  PG   21  DEN  1991  67  19.0  1505   942   \n",
       "2  abdulta01    Tariq Abdul-Wahad  SG   23  SAC  1998  59  16.0   959   376   \n",
       "3  abdursh01  Shareef Abdur-Rahim  PF   20  VAN  1997  80  71.0  2802  1494   \n",
       "4  abrinal01         Álex Abrines  SG   23  OKC  2017  68   6.0  1055   406   \n",
       "\n",
       "   ...       FT%  ORB  DRB  TRB  AST  STL  BLK  TOV   PF  TARGET  \n",
       "0  ...  0.568182   27   62   89   12    4   12   22   39    True  \n",
       "1  ...  0.857143   34   87  121  206   55    4  110  149    True  \n",
       "2  ...  0.672000   44   72  116   51   35   13   65   81    True  \n",
       "3  ...  0.745665  216  339  555  175   79   79  225  199    True  \n",
       "4  ...  0.897959   18   68   86   40   37    8   33  114   False  \n",
       "\n",
       "[5 rows x 32 columns]"
      ]
     },
     "execution_count": 115,
     "metadata": {},
     "output_type": "execute_result"
    }
   ],
   "source": [
    "nba2 = nba[~nba['Year'].isin([1980, 1981])].fillna(0)\n",
    "nba2.head()\n"
   ]
  },
  {
   "cell_type": "code",
   "execution_count": 68,
   "metadata": {
    "deletable": false,
    "editable": false
   },
   "outputs": [
    {
     "data": {
      "text/html": [
       "<p><strong><pre style='display: inline;'>q6c</pre></strong> passed! 🎉</p>"
      ],
      "text/plain": [
       "q6c results: All test cases passed!"
      ]
     },
     "execution_count": 68,
     "metadata": {},
     "output_type": "execute_result"
    }
   ],
   "source": [
    "grader.check(\"q6c\")"
   ]
  },
  {
   "cell_type": "markdown",
   "metadata": {
    "deletable": false,
    "editable": false
   },
   "source": [
    "## Q6(d) - Labels \n",
    "\n",
    "Let's understand the what we should expect as a baseline performance for predicting whether the rookie play remains in the league for at least 5 years. \n",
    "\n",
    "(i). What fraction of players have a positive target label (in the league for at least 5 years)? Value should be in between 0 and 1.  \n",
    "(ii).  What should a constant classifier model predict?   A *constant classifier* always predicts the same value no matter the input.   \n",
    "(iii).  What is the error rate of the constant classifier? Value should be in between 0 and 1. \n",
    "\n",
    "Answer the following questions below.  Note, you should not use any `sklearn` functions, but simply look at properties of the data labels. \n"
   ]
  },
  {
   "cell_type": "code",
   "execution_count": 140,
   "metadata": {
    "tags": []
   },
   "outputs": [],
   "source": [
    "# XXX: Is this correct?\n",
    "\n",
    "# C ount the number of 'TARGET' == True and divide by total number of target\n",
    "target_arr = nba2['TARGET']\n",
    "q6d_i = (target_arr[target_arr].count() / target_arr.count())\n",
    "\n",
    "# Since q6d_i >= 0.5, Our constant classifier should predict True\n",
    "q6_ii = True\n",
    "\n",
    "# Since the constant classifier is always predicting True, our error would be (1 - (probability of True)) = (probability of False)\n",
    "q6d_iii = 1.00 - q6d_i"
   ]
  },
  {
   "cell_type": "code",
   "execution_count": 141,
   "metadata": {
    "deletable": false,
    "editable": false
   },
   "outputs": [
    {
     "data": {
      "text/html": [
       "<p><strong><pre style='display: inline;'>q6d</pre></strong> passed! 🙌</p>"
      ],
      "text/plain": [
       "q6d results: All test cases passed!"
      ]
     },
     "execution_count": 141,
     "metadata": {},
     "output_type": "execute_result"
    }
   ],
   "source": [
    "grader.check(\"q6d\")"
   ]
  },
  {
   "cell_type": "markdown",
   "metadata": {
    "deletable": false,
    "editable": false
   },
   "source": [
    "## Q6(e) - Prepare the data \n",
    "\n",
    "At this point, we need to set up the data in order to be used in the classification models. \n",
    "\n",
    "We want to create a DataFrame `nbaX` for the predictor variables and `nbaY` for the target variable. \n",
    "\n",
    "The target variable, `nbaY` will just be the `Target` column of the `nba2` data set. \n",
    "\n",
    "The predictor variables have more considerations. \n",
    "\n",
    "We want to exclude player information such as IDs, `PlayerID` and names `Player`, that are identifying and not predictive.   \n",
    "\n",
    "You should also exclude these other factors (note, that some of these variables may in fact be predictive but we are going to exclude at this time): \n",
    "\n",
    "* `POS` - player position\n",
    "* `Tm` - team\n",
    "* `Year` - rookie year\n",
    "\n",
    "Finally, several of the numeric predictive variables are not only related, but can be directly calculated from one another, e.g., `FG%` = `FG` / `FGA`.  Having variables that are closely related, or in this case redundant may actually hinder the predictive models. \n",
    "\n",
    "Therefore, exclude the following variables: `FG`, `3P`, `2P`, `eFG%`, `FT`, `TRB`. "
   ]
  },
  {
   "cell_type": "code",
   "execution_count": 162,
   "metadata": {
    "tags": []
   },
   "outputs": [
    {
     "name": "stdout",
     "output_type": "stream",
     "text": [
      "(2487, 19)\n",
      "(2487,)\n"
     ]
    }
   ],
   "source": [
    "nbaY = nba2['TARGET']\n",
    "nbaX = nba2.drop(columns=['TARGET','PlayerID','Player','Pos','Tm','Year','FG','3P','2P','eFG%','FT','TRB','Age'])\n",
    "\n",
    "print(nbaX.shape)\n",
    "print(nbaY.shape)"
   ]
  },
  {
   "cell_type": "code",
   "execution_count": 163,
   "metadata": {
    "deletable": false,
    "editable": false
   },
   "outputs": [
    {
     "data": {
      "text/html": [
       "<p><strong><pre style='display: inline;'>q6e</pre></strong> passed! 🌟</p>"
      ],
      "text/plain": [
       "q6e results: All test cases passed!"
      ]
     },
     "execution_count": 163,
     "metadata": {},
     "output_type": "execute_result"
    }
   ],
   "source": [
    "grader.check(\"q6e\")"
   ]
  },
  {
   "cell_type": "markdown",
   "metadata": {
    "deletable": false,
    "editable": false
   },
   "source": [
    "## Q6(f) - Model Selection and Evaluation: Three-fold Split\n",
    "\n",
    "Split the data into training, validation and test sets with 60, 20, and 20% of the data respectively. Make sure to split the data such that the distribution of class labels is approximately equal across splits - “stratify”.\n",
    "\n",
    "Set the seed for the random generator in `random_state` to ”4821”"
   ]
  },
  {
   "cell_type": "code",
   "execution_count": null,
   "metadata": {
    "tags": []
   },
   "outputs": [],
   "source": [
    "# Split of the test set\n",
    "X_trainval, X_test, y_trainval, y_test = ...\n",
    "\n",
    "# Split trainval into train + val \n",
    "X_train, X_val, y_train, y_val = ...\n"
   ]
  },
  {
   "cell_type": "code",
   "execution_count": null,
   "metadata": {
    "deletable": false,
    "editable": false
   },
   "outputs": [],
   "source": [
    "grader.check(\"q6f\")"
   ]
  },
  {
   "cell_type": "markdown",
   "metadata": {
    "deletable": false,
    "editable": false
   },
   "source": [
    "## Q6(g) - Scaling \n",
    "\n",
    "Scale the predictor data with standard scaling (Gaussian normalizaiton). \n",
    "\n",
    "Make sure to use training data set to set scaling parameters and apply those parameters to scaling the training and validation data.\n",
    "\n",
    "Use the train+val to scale the train+val data, and use those parameters to scale the test data to evaluate the best model. \n",
    "\n",
    "Helpful functions: Python - `StandardScaler` from `sklearn.preprocessing`."
   ]
  },
  {
   "cell_type": "code",
   "execution_count": null,
   "metadata": {
    "tags": []
   },
   "outputs": [],
   "source": [
    "scaler = ...\n",
    "X_train_sc = ...\n",
    "X_val_sc = ...\n",
    "\n",
    "scaler_final = ...\n",
    "X_trainval_sc = ...\n",
    "X_test_sc = ...\n"
   ]
  },
  {
   "cell_type": "code",
   "execution_count": null,
   "metadata": {
    "deletable": false,
    "editable": false
   },
   "outputs": [],
   "source": [
    "grader.check(\"q6g\")"
   ]
  },
  {
   "cell_type": "markdown",
   "metadata": {
    "deletable": false,
    "editable": false
   },
   "source": [
    "## Q6(h) -  KNN - K Nearest Neighbors\n",
    "For values of k, [3, 7, 11, 15, 19, 23, 27, 31], find the best k-nearest-neighbor classifier using the three-fold split of data. \n",
    "\n",
    "* fit a k nearest neighbors model to the training data for each value of k\n",
    "* evaluate the classifier on the training and validation set using AUC\n",
    "* select the best value of k\n",
    "* create a model on train+validation with the *best* value of k \n",
    "* evaluate the classifier on the test data. \n",
    "* plot the training and validation performance vs k;  \n",
    "add a line showing the test performance"
   ]
  },
  {
   "cell_type": "code",
   "execution_count": null,
   "metadata": {
    "tags": []
   },
   "outputs": [],
   "source": [
    "\n",
    "kvals = [3, 7, 11, 15, 19, 23, 27, 31]\n",
    "\n",
    "knn_auc_val = np.zeros((1,len(kvals)))\n",
    "knn_auc_tr = np.zeros((1,len(kvals)))\n",
    "\n",
    "\n",
    "# fit a k nearest neighbors model to the training data\n",
    "# evaluate the classifier on the training and validation set using auc\n",
    "\n",
    "\n",
    "# select the best value of k\n",
    "knn_bestk = ...\n",
    "\n",
    "# create a best model on train+validation\n",
    "\n",
    "# evaluate the classifier on the test data.\n",
    "knn_auc_test = ...\n",
    "\n",
    "# plot the training and validationing performance vs k.\n",
    "#   add a line for test performance \n",
    "\n",
    "\n",
    "\n",
    "\n",
    "print('Best k:  %d' % (knn_bestk))\n",
    "print('Test Perf:  %.6f' % (knn_auc_test))"
   ]
  },
  {
   "cell_type": "code",
   "execution_count": null,
   "metadata": {
    "deletable": false,
    "editable": false
   },
   "outputs": [],
   "source": [
    "grader.check(\"q6h\")"
   ]
  },
  {
   "cell_type": "markdown",
   "metadata": {
    "deletable": false,
    "editable": false
   },
   "source": [
    "## Q6(i) - Decision Trees\n",
    "\n",
    "For values of max_leaf_nodes nodes [5, 10, 25, 50, 75, 100], fit the Decision Trees classifier to the training data. \n",
    "\n",
    "- fit a decision tree model to the training data (use `random_state=4821`) for each of the max_leaf_nodes values\n",
    "- evaluate the classifier on the training and validation set using AUC\n",
    "- select the best max_leaf_nodes\n",
    "- retrain the a model on train+validation with the *best* value of max_leaf_nodes \n",
    "- report the auc on the testing data.\n",
    "- plot the train and validation AUC vs max_leaf_nodes;  \n",
    "add a line for the test AUC performance \n",
    "- print out the best tree."
   ]
  },
  {
   "cell_type": "code",
   "execution_count": null,
   "metadata": {
    "tags": []
   },
   "outputs": [],
   "source": [
    "\n",
    "nodes = [5, 10, 25, 50, 75, 100, 150]\n",
    "\n",
    "dt_auc_val = np.zeros((1,len(nodes)))\n",
    "dt_auc_tr = np.zeros((1,len(nodes)))\n",
    "\n",
    "# fit a decision tree model to the training data (use random_state=4821)\n",
    "# evaluate the classifier on the training and validation set using auc\n",
    "\n",
    "\n",
    "# select the best max_leaf_nodes\n",
    "dt_bestn = ...\n",
    "\n",
    "# retrain the best model on train+validation\n",
    "# report the auc on the testing data.\n",
    "dt_auc_test = ...\n",
    "\n",
    "# plot the train and validation auc vs max_leaf_nodes.\n",
    "#   add a line for test performance \n",
    "\n",
    "\n",
    "print('Best max_leaf_nodes:  %d' % (dt_bestn))\n",
    "print('Test Perf:  %.6f' % (dt_auc_test))"
   ]
  },
  {
   "cell_type": "code",
   "execution_count": null,
   "metadata": {
    "tags": []
   },
   "outputs": [],
   "source": [
    "\n",
    "# print out the tree\n",
    "\n"
   ]
  },
  {
   "cell_type": "code",
   "execution_count": null,
   "metadata": {
    "deletable": false,
    "editable": false
   },
   "outputs": [],
   "source": [
    "grader.check(\"q6i\")"
   ]
  },
  {
   "cell_type": "markdown",
   "metadata": {
    "deletable": false,
    "editable": false
   },
   "source": [
    "## Q6(j) -  Naive Bayes \n",
    "\n",
    "Train a Gaussian Naive Bayes model on training + validation data and report the training+val and testing data performance (auc). \n"
   ]
  },
  {
   "cell_type": "code",
   "execution_count": null,
   "metadata": {
    "tags": []
   },
   "outputs": [],
   "source": [
    "# q4j\n",
    "\n",
    "nb_auc_trainval = ...\n",
    "nb_auc_test = ...\n"
   ]
  },
  {
   "cell_type": "code",
   "execution_count": null,
   "metadata": {
    "deletable": false,
    "editable": false
   },
   "outputs": [],
   "source": [
    "grader.check(\"q6j\")"
   ]
  },
  {
   "cell_type": "markdown",
   "metadata": {
    "deletable": false,
    "editable": false
   },
   "source": [
    "## Submission\n",
    "\n",
    "Make sure you have run all cells in your notebook in order before running the cell below, so that all images/graphs appear in the output. The cell below will generate a zip file for you to submit. **Please save before exporting!**\n",
    "\n",
    "**NOTE** the submission must be run on the campus linux machines.  See the instruction in the Canvas assignment."
   ]
  },
  {
   "cell_type": "code",
   "execution_count": null,
   "metadata": {
    "deletable": false,
    "editable": false
   },
   "outputs": [],
   "source": [
    "# Save your notebook first, then run this cell to export your submission.\n",
    "grader.export(pdf=False, run_tests=True)"
   ]
  },
  {
   "cell_type": "markdown",
   "metadata": {},
   "source": [
    " "
   ]
  }
 ],
 "metadata": {
  "kernelspec": {
   "display_name": "cs4821",
   "language": "python",
   "name": "cs4821"
  },
  "language_info": {
   "codemirror_mode": {
    "name": "ipython",
    "version": 3
   },
   "file_extension": ".py",
   "mimetype": "text/x-python",
   "name": "python",
   "nbconvert_exporter": "python",
   "pygments_lexer": "ipython3",
   "version": "3.10.16"
  },
  "otter": {
   "OK_FORMAT": true,
   "assignment_name": "a2-4821",
   "tests": {
    "q1b": {
     "name": "q1b",
     "points": 3,
     "suites": [
      {
       "cases": [
        {
         "code": ">>> (q1movies.shape[0] == 646) & (q1movies.shape[1] == 32)\nTrue",
         "hidden": false,
         "locked": false,
         "points": 1
        },
        {
         "code": ">>> all(q1movies.columns == ['title', 'title_type', 'genre', 'runtime', 'mpaa_rating', 'studio', 'thtr_rel_year', 'thtr_rel_month', 'thtr_rel_day', 'dvd_rel_year', 'dvd_rel_month', 'dvd_rel_day', 'imdb_rating', 'imdb_num_votes', 'critics_rating', 'critics_score', 'audience_rating', 'audience_score', 'best_pic_nom', 'best_pic_win', 'best_actor_win', 'best_actress_win', 'best_dir_win', 'top200_box', 'director', 'actor1', 'actor2', 'actor3', 'actor4', 'actor5', 'imdb_url', 'rt_url'])\nTrue",
         "hidden": false,
         "locked": false,
         "points": 1
        },
        {
         "code": ">>> all(q1movies.iloc[1:5, 6] == [2001, 1996, 1993, 2004])\nTrue",
         "hidden": false,
         "locked": false,
         "points": 1
        }
       ],
       "scored": true,
       "setup": "",
       "teardown": "",
       "type": "doctest"
      }
     ]
    },
    "q1c": {
     "name": "q1c",
     "points": [
      2
     ],
     "suites": [
      {
       "cases": [
        {
         "code": ">>> all(miss_data[miss_data > 0].index == ['runtime', 'studio', 'dvd_rel_year', 'dvd_rel_month', 'dvd_rel_day', 'director', 'actor1', 'actor2', 'actor3', 'actor4', 'actor5'])\nTrue",
         "hidden": false,
         "locked": false
        }
       ],
       "scored": true,
       "setup": "",
       "teardown": "",
       "type": "doctest"
      }
     ]
    },
    "q1d": {
     "name": "q1d",
     "points": 3,
     "suites": [
      {
       "cases": [
        {
         "code": ">>> movies.shape[0] == 645\nTrue",
         "hidden": false,
         "locked": false,
         "points": 1
        },
        {
         "code": ">>> movies.shape[1] == 32\nTrue",
         "hidden": false,
         "locked": false,
         "points": 1
        },
        {
         "code": ">>> all(movies.iloc[100:110, 3] == [102, 101, 84, 102, 90, 122, 107, 97, 165, 109])\nTrue",
         "hidden": false,
         "locked": false,
         "points": 1
        }
       ],
       "scored": true,
       "setup": "",
       "teardown": "",
       "type": "doctest"
      }
     ]
    },
    "q1e": {
     "name": "q1e",
     "points": [
      0.2,
      0.2,
      0.2,
      0.2,
      0.2,
      0.2,
      0.2,
      0.1
     ],
     "suites": [
      {
       "cases": [
        {
         "code": ">>> type_genre in [1, 2, 3, 4]\nTrue",
         "hidden": false,
         "locked": false
        },
        {
         "code": ">>> type_runtime in [1, 2, 3, 4]\nTrue",
         "hidden": false,
         "locked": false
        },
        {
         "code": ">>> type_mpaa_rating in [1, 2, 3, 4]\nTrue",
         "hidden": false,
         "locked": false
        },
        {
         "code": ">>> type_studio in [1, 2, 3, 4]\nTrue",
         "hidden": false,
         "locked": false
        },
        {
         "code": ">>> type_thtr_rel_month in [1, 2, 3, 4]\nTrue",
         "hidden": false,
         "locked": false
        },
        {
         "code": ">>> type_imdb_rating in [1, 2, 3, 4]\nTrue",
         "hidden": false,
         "locked": false
        },
        {
         "code": ">>> type_audience_score in [1, 2, 3, 4]\nTrue",
         "hidden": false,
         "locked": false
        },
        {
         "code": ">>> type_best_pic_win in [1, 2, 3, 4]\nTrue",
         "hidden": false,
         "locked": false
        }
       ],
       "scored": true,
       "setup": "",
       "teardown": "",
       "type": "doctest"
      }
     ]
    },
    "q1f": {
     "name": "q1f",
     "points": 5,
     "suites": [
      {
       "cases": [
        {
         "code": ">>> q1f.shape == (5, 2)\nTrue",
         "hidden": false,
         "locked": false,
         "points": 1
        }
       ],
       "scored": true,
       "setup": "",
       "teardown": "",
       "type": "doctest"
      }
     ]
    },
    "q1g": {
     "name": "q1g",
     "points": 3,
     "suites": [
      {
       "cases": [
        {
         "code": ">>> round(q1g_cs_mean, 4) == 57.6341 and round(q1g_r_mean, 4) == 105.8527\nnp.True_",
         "hidden": false,
         "locked": false,
         "points": 1
        },
        {
         "code": ">>> round(q1g_cs_median, 4) == 61.0 and round(q1g_r_median, 4) == 103.0\nnp.True_",
         "hidden": false,
         "locked": false,
         "points": 1
        },
        {
         "code": ">>> round(q1g_cs_mode, 4) == 67 and round(q1g_r_mode, 4) == 100.0\nTrue",
         "hidden": false,
         "locked": false,
         "points": 1
        }
       ],
       "scored": true,
       "setup": "",
       "teardown": "",
       "type": "doctest"
      }
     ]
    },
    "q1h": {
     "name": "q1h",
     "points": 4,
     "suites": [
      {
       "cases": [
        {
         "code": ">>> round(q1h_cs_q1, 4) == 33 and round(q1h_r_q1, 4) == 92.0\nnp.True_",
         "hidden": false,
         "locked": false,
         "points": 1
        },
        {
         "code": ">>> round(q1h_cs_p37, 4) == 47.28 and round(q1h_r_p37, 4) == 97.0\nnp.True_",
         "hidden": false,
         "locked": false,
         "points": 1
        },
        {
         "code": ">>> round(q1h_cs_q3, 4) == 83.0 and round(q1h_r_q3, 4) == 116.0\nnp.True_",
         "hidden": false,
         "locked": false,
         "points": 1
        },
        {
         "code": ">>> round(q1h_cs_p83, 4) == 89.0 and round(q1h_r_p83, 4) == 122.0\nnp.True_",
         "hidden": false,
         "locked": false,
         "points": 1
        }
       ],
       "scored": true,
       "setup": "",
       "teardown": "",
       "type": "doctest"
      }
     ]
    },
    "q2": {
     "name": "q2",
     "points": [
      1,
      2
     ],
     "suites": [
      {
       "cases": [
        {
         "code": ">>> np.allclose(q2outA, np.array([[0.0, 0.0], [0.17, 0.03225806], [0.2, 1.0], [0.4, 0.20967742], [0.65, 0.4516129], [1.0, 0.53225806]]))\nTrue",
         "hidden": false,
         "locked": false
        },
        {
         "code": ">>> np.allclose(q2outBtest, np.array([[0.22, 0.03225806], [0.38, 0.83870968], [0.81, 1.03225806]]))\nTrue",
         "hidden": false,
         "locked": false
        }
       ],
       "scored": true,
       "setup": "",
       "teardown": "",
       "type": "doctest"
      }
     ]
    },
    "q3": {
     "name": "q3",
     "points": [
      1
     ],
     "suites": [
      {
       "cases": [
        {
         "code": ">>> np.allclose(q3outBtrain, np.array([[-1.20221086, -1.08103207], [-0.69549389, -0.98702928], [-0.60607324, 1.83305438], [-0.00993563, -0.47001394], [0.7352364, 0.23500697], [1.77847723, 0.47001394]]))\nTrue",
         "hidden": false,
         "locked": false
        }
       ],
       "scored": true,
       "setup": "",
       "teardown": "",
       "type": "doctest"
      }
     ]
    },
    "q4": {
     "name": "q4",
     "points": 16,
     "suites": [
      {
       "cases": [
        {
         "code": ">>> perfDF.shape == (10, 5)\nTrue",
         "hidden": false,
         "locked": false,
         "points": 2
        },
        {
         "code": ">>> all(perfDF.columns == ['Threshold', 'TPR', 'FPR', 'ACC', 'MCC'])\nTrue",
         "hidden": false,
         "locked": false,
         "points": 2
        },
        {
         "code": ">>> all(perfDF['TPR'] == [0.2, 0.4, 0.4, 0.6, 0.8, 0.8, 1.0, 1.0, 1.0, 1.0])\nTrue",
         "hidden": false,
         "locked": false,
         "points": 3
        },
        {
         "code": ">>> all(perfDF['ACC'] == [0.6, 0.7, 0.6, 0.7, 0.8, 0.7, 0.8, 0.7, 0.6, 0.5])\nTrue",
         "hidden": false,
         "locked": false,
         "points": 3
        }
       ],
       "scored": true,
       "setup": "",
       "teardown": "",
       "type": "doctest"
      }
     ]
    },
    "q6a": {
     "name": "q6a",
     "points": 3,
     "suites": [
      {
       "cases": [
        {
         "code": ">>> nba.shape == (2621, 32)\nTrue",
         "hidden": false,
         "locked": false,
         "points": 1
        },
        {
         "code": ">>> all(nba.columns == ['PlayerID', 'Player', 'Pos', 'Age', 'Tm', 'Year', 'G', 'GS', 'MP', 'PTS', 'FG', 'FGA', 'FG%', '3P', '3PA', '3P%', '2P', '2PA', '2P%', 'eFG%', 'FT', 'FTA', 'FT%', 'ORB', 'DRB', 'TRB', 'AST', 'STL', 'BLK', 'TOV', 'PF', 'TARGET'])\nTrue",
         "hidden": false,
         "locked": false,
         "points": 1
        },
        {
         "code": ">>> all(nba['TARGET'].value_counts() == [1315, 1306])\nTrue",
         "hidden": false,
         "locked": false,
         "points": 1
        }
       ],
       "scored": true,
       "setup": "",
       "teardown": "",
       "type": "doctest"
      }
     ]
    },
    "q6b": {
     "name": "q6b",
     "points": 4,
     "suites": [
      {
       "cases": [
        {
         "code": ">>> miss_nba.shape == (32,)\nTrue",
         "hidden": false,
         "locked": false
        },
        {
         "code": ">>> all(miss_nba[miss_nba > 0].index == ['GS', 'FG%', '3P%', '2P%', 'eFG%', 'FT%'])\nTrue",
         "hidden": false,
         "locked": false
        },
        {
         "code": ">>> np.isclose(miss_nba.max(), 23.693246)\nnp.True_",
         "hidden": false,
         "locked": false
        },
        {
         "code": ">>> np.isclose(miss_nba.mean(), 1.1756009)\nnp.True_",
         "hidden": false,
         "locked": false
        }
       ],
       "scored": true,
       "setup": "",
       "teardown": "",
       "type": "doctest"
      }
     ]
    },
    "q6c": {
     "name": "q6c",
     "points": 6,
     "suites": [
      {
       "cases": [
        {
         "code": ">>> nba2.shape == (2487, 32)\nTrue",
         "hidden": false,
         "locked": false
        },
        {
         "code": ">>> nba2.isna().sum().sum() == 0\nnp.True_",
         "hidden": false,
         "locked": false
        },
        {
         "code": ">>> any(nba2['Year'].isin([1980, 1981])) == False\nTrue",
         "hidden": false,
         "locked": false
        }
       ],
       "scored": true,
       "setup": "",
       "teardown": "",
       "type": "doctest"
      }
     ]
    },
    "q6d": {
     "name": "q6d",
     "points": 4,
     "suites": [
      {
       "cases": [
        {
         "code": ">>> np.isclose(q6d_i, 0.5058303176)\nnp.True_",
         "hidden": false,
         "locked": false,
         "points": 1
        }
       ],
       "scored": true,
       "setup": "",
       "teardown": "",
       "type": "doctest"
      }
     ]
    },
    "q6e": {
     "name": "q6e",
     "points": [
      2,
      1,
      1,
      1
     ],
     "suites": [
      {
       "cases": [
        {
         "code": ">>> nbaX.shape == (2487, 19)\nTrue",
         "hidden": false,
         "locked": false
        },
        {
         "code": ">>> nbaY.shape == (2487,)\nTrue",
         "hidden": false,
         "locked": false
        },
        {
         "code": ">>> all(nba.columns == ['PlayerID', 'Player', 'Pos', 'Age', 'Tm', 'Year', 'G', 'GS', 'MP', 'PTS', 'FG', 'FGA', 'FG%', '3P', '3PA', '3P%', '2P', '2PA', '2P%', 'eFG%', 'FT', 'FTA', 'FT%', 'ORB', 'DRB', 'TRB', 'AST', 'STL', 'BLK', 'TOV', 'PF', 'TARGET'])\nTrue",
         "hidden": false,
         "locked": false
        },
        {
         "code": ">>> all(nbaY.value_counts() == [1258, 1229])\nTrue",
         "hidden": false,
         "locked": false
        }
       ],
       "scored": true,
       "setup": "",
       "teardown": "",
       "type": "doctest"
      }
     ]
    },
    "q6f": {
     "name": "q6f",
     "points": 6,
     "suites": [
      {
       "cases": [
        {
         "code": ">>> X_train.shape == (1491, 19) and y_train.shape == (1491,)\nTrue",
         "hidden": false,
         "locked": false
        },
        {
         "code": ">>> X_val.shape == (498, 19) and y_val.shape == (498,)\nTrue",
         "hidden": false,
         "locked": false
        },
        {
         "code": ">>> X_test.shape == (498, 19) and y_test.shape == (498,)\nTrue",
         "hidden": false,
         "locked": false
        }
       ],
       "scored": true,
       "setup": "",
       "teardown": "",
       "type": "doctest"
      }
     ]
    },
    "q6g": {
     "name": "q6g",
     "points": 10,
     "suites": [
      {
       "cases": [
        {
         "code": ">>> np.isclose(X_train_sc[0][0], 0.117347) and np.isclose(X_train_sc[0][1], -0.5709238)\nnp.True_",
         "hidden": false,
         "locked": false
        },
        {
         "code": ">>> np.isclose(X_train_sc[60][10], -0.55316873) and np.isclose(X_train_sc[35][12], 0.537966644)\nnp.True_",
         "hidden": false,
         "locked": false
        },
        {
         "code": ">>> np.isclose(X_val_sc[30][4], -0.780257632) and np.isclose(X_val_sc[23][9], -0.35039117)\nnp.True_",
         "hidden": false,
         "locked": false
        },
        {
         "code": ">>> np.isclose(X_val_sc[24][14], -0.59249814) and np.isclose(X_val_sc[28][3], -0.67867433)\nnp.True_",
         "hidden": false,
         "locked": false
        },
        {
         "code": ">>> np.isclose(X_test_sc[0][0], 1.451343696) and np.isclose(X_test_sc[0][1], 1.545438323)\nnp.True_",
         "hidden": false,
         "locked": false
        },
        {
         "code": ">>> np.isclose(X_test_sc[20][1], -0.57512671) and np.isclose(X_test_sc[24][8], 0.695857162)\nnp.True_",
         "hidden": false,
         "locked": false
        },
        {
         "code": ">>> np.isclose(X_trainval_sc[0][0], 0.226725226) and np.isclose(X_trainval_sc[40][13], 0.0533794211)\nnp.True_",
         "hidden": false,
         "locked": false
        },
        {
         "code": ">>> np.allclose(X_train_sc.mean(axis=0), [0, 0, 0, 0, 0, 0, 0, 0, 0, 0, 0, 0, 0, 0, 0, 0, 0, 0, 0])\nTrue",
         "hidden": false,
         "locked": false,
         "points": 1.5
        },
        {
         "code": ">>> np.allclose(X_trainval_sc.mean(axis=0), [0, 0, 0, 0, 0, 0, 0, 0, 0, 0, 0, 0, 0, 0, 0, 0, 0, 0, 0])\nTrue",
         "hidden": false,
         "locked": false,
         "points": 1.5
        }
       ],
       "scored": true,
       "setup": "",
       "teardown": "",
       "type": "doctest"
      }
     ]
    },
    "q6h": {
     "name": "q6h",
     "points": [
      2,
      1,
      2,
      2
     ],
     "suites": [
      {
       "cases": [
        {
         "code": ">>> np.isclose(knn_auc_tr[0][0], 0.840645458) and np.isclose(knn_auc_tr[0][3], 0.751082422)\nnp.True_",
         "hidden": false,
         "locked": false
        },
        {
         "code": ">>> np.isclose(knn_auc_val[0][6], 0.741482771) and np.isclose(knn_auc_val[0][3], 0.759533488)\nnp.True_",
         "hidden": false,
         "locked": false
        },
        {
         "code": ">>> np.isclose(knn_auc_val[0][0], 0.688830816) and np.isclose(knn_auc_val[0][4], 0.757549361)\nnp.True_",
         "hidden": false,
         "locked": false
        },
        {
         "code": ">>> knn_bestk == 15\nTrue",
         "hidden": false,
         "locked": false
        }
       ],
       "scored": true,
       "setup": "",
       "teardown": "",
       "type": "doctest"
      }
     ]
    },
    "q6i": {
     "name": "q6i",
     "points": [
      1,
      2,
      2
     ],
     "suites": [
      {
       "cases": [
        {
         "code": ">>> np.isclose(dt_auc_tr[0][0], 0.74117146) and np.isclose(dt_auc_tr[0][5], 0.907029537)\nnp.True_",
         "hidden": false,
         "locked": false
        },
        {
         "code": ">>> np.isclose(dt_auc_val[0][1], 0.7454994192) and np.isclose(dt_auc_val[0][4], 0.707365466)\nnp.True_",
         "hidden": false,
         "locked": false
        },
        {
         "code": ">>> np.isclose(dt_auc_val[0][3], 0.727497096) and np.isclose(dt_auc_val[0][5], 0.680942702)\nnp.True_",
         "hidden": false,
         "locked": false
        }
       ],
       "scored": true,
       "setup": "",
       "teardown": "",
       "type": "doctest"
      }
     ]
    },
    "q6j": {
     "name": "q6j",
     "points": 6,
     "suites": [
      {
       "cases": [
        {
         "code": ">>> np.isclose(nb_auc_trainval, 0.718783433)\nnp.True_",
         "hidden": false,
         "locked": false
        },
        {
         "code": ">>> np.isclose(nb_auc_test, 0.7311749903)\nnp.True_",
         "hidden": false,
         "locked": false
        }
       ],
       "scored": true,
       "setup": "",
       "teardown": "",
       "type": "doctest"
      }
     ]
    }
   }
  }
 },
 "nbformat": 4,
 "nbformat_minor": 4
}
